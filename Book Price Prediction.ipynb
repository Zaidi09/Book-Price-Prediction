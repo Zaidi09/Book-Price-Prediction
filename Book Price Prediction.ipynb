{
 "cells": [
  {
   "cell_type": "code",
   "execution_count": 1,
   "id": "2569be4a",
   "metadata": {},
   "outputs": [],
   "source": [
    "import numpy as np\n",
    "import pandas as pd\n",
    "import matplotlib.pyplot as plt\n",
    "import seaborn as sns\n",
    "import re\n",
    "\n"
   ]
  },
  {
   "cell_type": "code",
   "execution_count": 2,
   "id": "5fda44c3",
   "metadata": {},
   "outputs": [],
   "source": [
    "from sklearn.preprocessing import PowerTransformer, StandardScaler"
   ]
  },
  {
   "cell_type": "code",
   "execution_count": 3,
   "id": "666eb7c1",
   "metadata": {},
   "outputs": [],
   "source": [
    "import warnings\n",
    "warnings.filterwarnings('ignore')"
   ]
  },
  {
   "cell_type": "code",
   "execution_count": 4,
   "id": "d000c500",
   "metadata": {},
   "outputs": [
    {
     "data": {
      "text/html": [
       "<div>\n",
       "<style scoped>\n",
       "    .dataframe tbody tr th:only-of-type {\n",
       "        vertical-align: middle;\n",
       "    }\n",
       "\n",
       "    .dataframe tbody tr th {\n",
       "        vertical-align: top;\n",
       "    }\n",
       "\n",
       "    .dataframe thead th {\n",
       "        text-align: right;\n",
       "    }\n",
       "</style>\n",
       "<table border=\"1\" class=\"dataframe\">\n",
       "  <thead>\n",
       "    <tr style=\"text-align: right;\">\n",
       "      <th></th>\n",
       "      <th>Title</th>\n",
       "      <th>Author</th>\n",
       "      <th>Edition</th>\n",
       "      <th>Reviews</th>\n",
       "      <th>Ratings</th>\n",
       "      <th>Synopsis</th>\n",
       "      <th>Genre</th>\n",
       "      <th>BookCategory</th>\n",
       "    </tr>\n",
       "  </thead>\n",
       "  <tbody>\n",
       "    <tr>\n",
       "      <th>0</th>\n",
       "      <td>The Complete Sherlock Holmes: 2 Boxes sets</td>\n",
       "      <td>Sir Arthur Conan Doyle</td>\n",
       "      <td>Mass Market Paperback,– 1 Oct 1986</td>\n",
       "      <td>4.4 out of 5 stars</td>\n",
       "      <td>960 customer reviews</td>\n",
       "      <td>A collection of entire body of work of the She...</td>\n",
       "      <td>Short Stories (Books)</td>\n",
       "      <td>Crime, Thriller &amp; Mystery</td>\n",
       "    </tr>\n",
       "    <tr>\n",
       "      <th>1</th>\n",
       "      <td>Learn Docker - Fundamentals of Docker 18.x: Ev...</td>\n",
       "      <td>Gabriel N. Schenker</td>\n",
       "      <td>Paperback,– Import, 26 Apr 2018</td>\n",
       "      <td>5.0 out of 5 stars</td>\n",
       "      <td>1 customer review</td>\n",
       "      <td>Enhance your software deployment workflow usin...</td>\n",
       "      <td>Operating Systems Textbooks</td>\n",
       "      <td>Computing, Internet &amp; Digital Media</td>\n",
       "    </tr>\n",
       "    <tr>\n",
       "      <th>2</th>\n",
       "      <td>Big Girl</td>\n",
       "      <td>Danielle Steel</td>\n",
       "      <td>Paperback,– 17 Mar 2011</td>\n",
       "      <td>5.0 out of 5 stars</td>\n",
       "      <td>4 customer reviews</td>\n",
       "      <td>'Watch out, world. Here I come!'\\nFor Victoria...</td>\n",
       "      <td>Romance (Books)</td>\n",
       "      <td>Romance</td>\n",
       "    </tr>\n",
       "    <tr>\n",
       "      <th>3</th>\n",
       "      <td>Think Python: How to Think Like a Computer Sci...</td>\n",
       "      <td>Allen B. Downey</td>\n",
       "      <td>Paperback,– 2016</td>\n",
       "      <td>4.1 out of 5 stars</td>\n",
       "      <td>11 customer reviews</td>\n",
       "      <td>If you want to learn how to program, working w...</td>\n",
       "      <td>Programming &amp; Software Development (Books)</td>\n",
       "      <td>Computing, Internet &amp; Digital Media</td>\n",
       "    </tr>\n",
       "    <tr>\n",
       "      <th>4</th>\n",
       "      <td>Oxford Word Skills: Advanced - Idioms &amp; Phrasa...</td>\n",
       "      <td>Redman Gairns</td>\n",
       "      <td>Paperback,– 26 Dec 2011</td>\n",
       "      <td>4.4 out of 5 stars</td>\n",
       "      <td>9 customer reviews</td>\n",
       "      <td>Learn and practise the verbs, prepositions and...</td>\n",
       "      <td>Linguistics (Books)</td>\n",
       "      <td>Language, Linguistics &amp; Writing</td>\n",
       "    </tr>\n",
       "  </tbody>\n",
       "</table>\n",
       "</div>"
      ],
      "text/plain": [
       "                                               Title                  Author  \\\n",
       "0         The Complete Sherlock Holmes: 2 Boxes sets  Sir Arthur Conan Doyle   \n",
       "1  Learn Docker - Fundamentals of Docker 18.x: Ev...     Gabriel N. Schenker   \n",
       "2                                           Big Girl          Danielle Steel   \n",
       "3  Think Python: How to Think Like a Computer Sci...         Allen B. Downey   \n",
       "4  Oxford Word Skills: Advanced - Idioms & Phrasa...           Redman Gairns   \n",
       "\n",
       "                              Edition             Reviews  \\\n",
       "0  Mass Market Paperback,– 1 Oct 1986  4.4 out of 5 stars   \n",
       "1     Paperback,– Import, 26 Apr 2018  5.0 out of 5 stars   \n",
       "2             Paperback,– 17 Mar 2011  5.0 out of 5 stars   \n",
       "3                    Paperback,– 2016  4.1 out of 5 stars   \n",
       "4             Paperback,– 26 Dec 2011  4.4 out of 5 stars   \n",
       "\n",
       "                Ratings                                           Synopsis  \\\n",
       "0  960 customer reviews  A collection of entire body of work of the She...   \n",
       "1     1 customer review  Enhance your software deployment workflow usin...   \n",
       "2    4 customer reviews  'Watch out, world. Here I come!'\\nFor Victoria...   \n",
       "3   11 customer reviews  If you want to learn how to program, working w...   \n",
       "4    9 customer reviews  Learn and practise the verbs, prepositions and...   \n",
       "\n",
       "                                        Genre  \\\n",
       "0                       Short Stories (Books)   \n",
       "1                 Operating Systems Textbooks   \n",
       "2                             Romance (Books)   \n",
       "3  Programming & Software Development (Books)   \n",
       "4                         Linguistics (Books)   \n",
       "\n",
       "                          BookCategory  \n",
       "0            Crime, Thriller & Mystery  \n",
       "1  Computing, Internet & Digital Media  \n",
       "2                              Romance  \n",
       "3  Computing, Internet & Digital Media  \n",
       "4      Language, Linguistics & Writing  "
      ]
     },
     "execution_count": 4,
     "metadata": {},
     "output_type": "execute_result"
    }
   ],
   "source": [
    "books = pd.read_excel('Data_Test.xlsx')\n",
    "books.head()"
   ]
  },
  {
   "cell_type": "code",
   "execution_count": 5,
   "id": "dae3c8d4",
   "metadata": {},
   "outputs": [
    {
     "data": {
      "text/html": [
       "<div>\n",
       "<style scoped>\n",
       "    .dataframe tbody tr th:only-of-type {\n",
       "        vertical-align: middle;\n",
       "    }\n",
       "\n",
       "    .dataframe tbody tr th {\n",
       "        vertical-align: top;\n",
       "    }\n",
       "\n",
       "    .dataframe thead th {\n",
       "        text-align: right;\n",
       "    }\n",
       "</style>\n",
       "<table border=\"1\" class=\"dataframe\">\n",
       "  <thead>\n",
       "    <tr style=\"text-align: right;\">\n",
       "      <th></th>\n",
       "      <th>Title</th>\n",
       "      <th>Author</th>\n",
       "      <th>Edition</th>\n",
       "      <th>Reviews</th>\n",
       "      <th>Ratings</th>\n",
       "      <th>Synopsis</th>\n",
       "      <th>Genre</th>\n",
       "      <th>BookCategory</th>\n",
       "    </tr>\n",
       "  </thead>\n",
       "  <tbody>\n",
       "    <tr>\n",
       "      <th>0</th>\n",
       "      <td>The Complete Sherlock Holmes: 2 Boxes sets</td>\n",
       "      <td>Sir Arthur Conan Doyle</td>\n",
       "      <td>Mass Market Paperback,– 1 Oct 1986</td>\n",
       "      <td>4.4 out of 5 stars</td>\n",
       "      <td>960 customer reviews</td>\n",
       "      <td>A collection of entire body of work of the She...</td>\n",
       "      <td>Short Stories (Books)</td>\n",
       "      <td>Crime, Thriller &amp; Mystery</td>\n",
       "    </tr>\n",
       "    <tr>\n",
       "      <th>1</th>\n",
       "      <td>Learn Docker - Fundamentals of Docker 18.x: Ev...</td>\n",
       "      <td>Gabriel N. Schenker</td>\n",
       "      <td>Paperback,– Import, 26 Apr 2018</td>\n",
       "      <td>5.0 out of 5 stars</td>\n",
       "      <td>1 customer review</td>\n",
       "      <td>Enhance your software deployment workflow usin...</td>\n",
       "      <td>Operating Systems Textbooks</td>\n",
       "      <td>Computing, Internet &amp; Digital Media</td>\n",
       "    </tr>\n",
       "    <tr>\n",
       "      <th>2</th>\n",
       "      <td>Big Girl</td>\n",
       "      <td>Danielle Steel</td>\n",
       "      <td>Paperback,– 17 Mar 2011</td>\n",
       "      <td>5.0 out of 5 stars</td>\n",
       "      <td>4 customer reviews</td>\n",
       "      <td>'Watch out, world. Here I come!'\\nFor Victoria...</td>\n",
       "      <td>Romance (Books)</td>\n",
       "      <td>Romance</td>\n",
       "    </tr>\n",
       "    <tr>\n",
       "      <th>3</th>\n",
       "      <td>Think Python: How to Think Like a Computer Sci...</td>\n",
       "      <td>Allen B. Downey</td>\n",
       "      <td>Paperback,– 2016</td>\n",
       "      <td>4.1 out of 5 stars</td>\n",
       "      <td>11 customer reviews</td>\n",
       "      <td>If you want to learn how to program, working w...</td>\n",
       "      <td>Programming &amp; Software Development (Books)</td>\n",
       "      <td>Computing, Internet &amp; Digital Media</td>\n",
       "    </tr>\n",
       "    <tr>\n",
       "      <th>4</th>\n",
       "      <td>Oxford Word Skills: Advanced - Idioms &amp; Phrasa...</td>\n",
       "      <td>Redman Gairns</td>\n",
       "      <td>Paperback,– 26 Dec 2011</td>\n",
       "      <td>4.4 out of 5 stars</td>\n",
       "      <td>9 customer reviews</td>\n",
       "      <td>Learn and practise the verbs, prepositions and...</td>\n",
       "      <td>Linguistics (Books)</td>\n",
       "      <td>Language, Linguistics &amp; Writing</td>\n",
       "    </tr>\n",
       "    <tr>\n",
       "      <th>...</th>\n",
       "      <td>...</td>\n",
       "      <td>...</td>\n",
       "      <td>...</td>\n",
       "      <td>...</td>\n",
       "      <td>...</td>\n",
       "      <td>...</td>\n",
       "      <td>...</td>\n",
       "      <td>...</td>\n",
       "    </tr>\n",
       "    <tr>\n",
       "      <th>1555</th>\n",
       "      <td>100 Things Every Designer Needs to Know About ...</td>\n",
       "      <td>Susan Weinschenk</td>\n",
       "      <td>Paperback,– 14 Apr 2011</td>\n",
       "      <td>5.0 out of 5 stars</td>\n",
       "      <td>4 customer reviews</td>\n",
       "      <td>We design to elicit responses from people. We ...</td>\n",
       "      <td>Design</td>\n",
       "      <td>Computing, Internet &amp; Digital Media</td>\n",
       "    </tr>\n",
       "    <tr>\n",
       "      <th>1556</th>\n",
       "      <td>Modern Letter Writing Course: Personal, Busine...</td>\n",
       "      <td>ARUN SAGAR</td>\n",
       "      <td>Paperback,– 8 May 2013</td>\n",
       "      <td>3.6 out of 5 stars</td>\n",
       "      <td>13 customer reviews</td>\n",
       "      <td>A 30-day course to write simple, sharp and att...</td>\n",
       "      <td>Children's Reference (Books)</td>\n",
       "      <td>Biographies, Diaries &amp; True Accounts</td>\n",
       "    </tr>\n",
       "    <tr>\n",
       "      <th>1557</th>\n",
       "      <td>The Kite Runner Graphic Novel</td>\n",
       "      <td>Khaled Hosseini</td>\n",
       "      <td>Paperback,– 6 Sep 2011</td>\n",
       "      <td>4.0 out of 5 stars</td>\n",
       "      <td>5 customer reviews</td>\n",
       "      <td>The perennial bestseller-now available as a se...</td>\n",
       "      <td>Humour (Books)</td>\n",
       "      <td>Humour</td>\n",
       "    </tr>\n",
       "    <tr>\n",
       "      <th>1558</th>\n",
       "      <td>Panzer Leader (Penguin World War II Collection)</td>\n",
       "      <td>Heinz Guderian</td>\n",
       "      <td>Paperback,– 22 Sep 2009</td>\n",
       "      <td>3.5 out of 5 stars</td>\n",
       "      <td>3 customer reviews</td>\n",
       "      <td>Heinz Guderian - master of the Blitzkrieg and ...</td>\n",
       "      <td>United States History</td>\n",
       "      <td>Biographies, Diaries &amp; True Accounts</td>\n",
       "    </tr>\n",
       "    <tr>\n",
       "      <th>1559</th>\n",
       "      <td>Complete Spanish Step-by-Step</td>\n",
       "      <td>Barbara Bregstein</td>\n",
       "      <td>Paperback,– 16 Sep 2016</td>\n",
       "      <td>4.5 out of 5 stars</td>\n",
       "      <td>2 customer reviews</td>\n",
       "      <td>Learn Spanish with the most convenient and eff...</td>\n",
       "      <td>Dictionaries</td>\n",
       "      <td>Language, Linguistics &amp; Writing</td>\n",
       "    </tr>\n",
       "  </tbody>\n",
       "</table>\n",
       "<p>1560 rows × 8 columns</p>\n",
       "</div>"
      ],
      "text/plain": [
       "                                                  Title  \\\n",
       "0            The Complete Sherlock Holmes: 2 Boxes sets   \n",
       "1     Learn Docker - Fundamentals of Docker 18.x: Ev...   \n",
       "2                                              Big Girl   \n",
       "3     Think Python: How to Think Like a Computer Sci...   \n",
       "4     Oxford Word Skills: Advanced - Idioms & Phrasa...   \n",
       "...                                                 ...   \n",
       "1555  100 Things Every Designer Needs to Know About ...   \n",
       "1556  Modern Letter Writing Course: Personal, Busine...   \n",
       "1557                      The Kite Runner Graphic Novel   \n",
       "1558    Panzer Leader (Penguin World War II Collection)   \n",
       "1559                      Complete Spanish Step-by-Step   \n",
       "\n",
       "                      Author                             Edition  \\\n",
       "0     Sir Arthur Conan Doyle  Mass Market Paperback,– 1 Oct 1986   \n",
       "1        Gabriel N. Schenker     Paperback,– Import, 26 Apr 2018   \n",
       "2             Danielle Steel             Paperback,– 17 Mar 2011   \n",
       "3            Allen B. Downey                    Paperback,– 2016   \n",
       "4              Redman Gairns             Paperback,– 26 Dec 2011   \n",
       "...                      ...                                 ...   \n",
       "1555        Susan Weinschenk             Paperback,– 14 Apr 2011   \n",
       "1556              ARUN SAGAR              Paperback,– 8 May 2013   \n",
       "1557         Khaled Hosseini              Paperback,– 6 Sep 2011   \n",
       "1558          Heinz Guderian             Paperback,– 22 Sep 2009   \n",
       "1559       Barbara Bregstein             Paperback,– 16 Sep 2016   \n",
       "\n",
       "                 Reviews               Ratings  \\\n",
       "0     4.4 out of 5 stars  960 customer reviews   \n",
       "1     5.0 out of 5 stars     1 customer review   \n",
       "2     5.0 out of 5 stars    4 customer reviews   \n",
       "3     4.1 out of 5 stars   11 customer reviews   \n",
       "4     4.4 out of 5 stars    9 customer reviews   \n",
       "...                  ...                   ...   \n",
       "1555  5.0 out of 5 stars    4 customer reviews   \n",
       "1556  3.6 out of 5 stars   13 customer reviews   \n",
       "1557  4.0 out of 5 stars    5 customer reviews   \n",
       "1558  3.5 out of 5 stars    3 customer reviews   \n",
       "1559  4.5 out of 5 stars    2 customer reviews   \n",
       "\n",
       "                                               Synopsis  \\\n",
       "0     A collection of entire body of work of the She...   \n",
       "1     Enhance your software deployment workflow usin...   \n",
       "2     'Watch out, world. Here I come!'\\nFor Victoria...   \n",
       "3     If you want to learn how to program, working w...   \n",
       "4     Learn and practise the verbs, prepositions and...   \n",
       "...                                                 ...   \n",
       "1555  We design to elicit responses from people. We ...   \n",
       "1556  A 30-day course to write simple, sharp and att...   \n",
       "1557  The perennial bestseller-now available as a se...   \n",
       "1558  Heinz Guderian - master of the Blitzkrieg and ...   \n",
       "1559  Learn Spanish with the most convenient and eff...   \n",
       "\n",
       "                                           Genre  \\\n",
       "0                          Short Stories (Books)   \n",
       "1                    Operating Systems Textbooks   \n",
       "2                                Romance (Books)   \n",
       "3     Programming & Software Development (Books)   \n",
       "4                            Linguistics (Books)   \n",
       "...                                          ...   \n",
       "1555                                      Design   \n",
       "1556                Children's Reference (Books)   \n",
       "1557                              Humour (Books)   \n",
       "1558                       United States History   \n",
       "1559                                Dictionaries   \n",
       "\n",
       "                              BookCategory  \n",
       "0                Crime, Thriller & Mystery  \n",
       "1      Computing, Internet & Digital Media  \n",
       "2                                  Romance  \n",
       "3      Computing, Internet & Digital Media  \n",
       "4          Language, Linguistics & Writing  \n",
       "...                                    ...  \n",
       "1555   Computing, Internet & Digital Media  \n",
       "1556  Biographies, Diaries & True Accounts  \n",
       "1557                                Humour  \n",
       "1558  Biographies, Diaries & True Accounts  \n",
       "1559       Language, Linguistics & Writing  \n",
       "\n",
       "[1560 rows x 8 columns]"
      ]
     },
     "execution_count": 5,
     "metadata": {},
     "output_type": "execute_result"
    }
   ],
   "source": [
    "books"
   ]
  },
  {
   "cell_type": "code",
   "execution_count": 6,
   "id": "053ec495",
   "metadata": {},
   "outputs": [
    {
     "data": {
      "text/plain": [
       "(1560, 8)"
      ]
     },
     "execution_count": 6,
     "metadata": {},
     "output_type": "execute_result"
    }
   ],
   "source": [
    "books.shape"
   ]
  },
  {
   "cell_type": "code",
   "execution_count": 7,
   "id": "2c7dc4e0",
   "metadata": {},
   "outputs": [
    {
     "name": "stdout",
     "output_type": "stream",
     "text": [
      "<class 'pandas.core.frame.DataFrame'>\n",
      "RangeIndex: 1560 entries, 0 to 1559\n",
      "Data columns (total 8 columns):\n",
      " #   Column        Non-Null Count  Dtype \n",
      "---  ------        --------------  ----- \n",
      " 0   Title         1560 non-null   object\n",
      " 1   Author        1560 non-null   object\n",
      " 2   Edition       1560 non-null   object\n",
      " 3   Reviews       1560 non-null   object\n",
      " 4   Ratings       1560 non-null   object\n",
      " 5   Synopsis      1560 non-null   object\n",
      " 6   Genre         1560 non-null   object\n",
      " 7   BookCategory  1560 non-null   object\n",
      "dtypes: object(8)\n",
      "memory usage: 97.6+ KB\n"
     ]
    }
   ],
   "source": [
    "books.info()"
   ]
  },
  {
   "cell_type": "code",
   "execution_count": 8,
   "id": "c1de16e6",
   "metadata": {},
   "outputs": [
    {
     "data": {
      "text/plain": [
       "Title           0\n",
       "Author          0\n",
       "Edition         0\n",
       "Reviews         0\n",
       "Ratings         0\n",
       "Synopsis        0\n",
       "Genre           0\n",
       "BookCategory    0\n",
       "dtype: int64"
      ]
     },
     "execution_count": 8,
     "metadata": {},
     "output_type": "execute_result"
    }
   ],
   "source": [
    "books.isna().sum()"
   ]
  },
  {
   "cell_type": "code",
   "execution_count": 9,
   "id": "23a53771",
   "metadata": {},
   "outputs": [
    {
     "data": {
      "text/html": [
       "<div>\n",
       "<style scoped>\n",
       "    .dataframe tbody tr th:only-of-type {\n",
       "        vertical-align: middle;\n",
       "    }\n",
       "\n",
       "    .dataframe tbody tr th {\n",
       "        vertical-align: top;\n",
       "    }\n",
       "\n",
       "    .dataframe thead th {\n",
       "        text-align: right;\n",
       "    }\n",
       "</style>\n",
       "<table border=\"1\" class=\"dataframe\">\n",
       "  <thead>\n",
       "    <tr style=\"text-align: right;\">\n",
       "      <th></th>\n",
       "      <th>Title</th>\n",
       "      <th>Author</th>\n",
       "      <th>Edition</th>\n",
       "      <th>Reviews</th>\n",
       "      <th>Ratings</th>\n",
       "      <th>Synopsis</th>\n",
       "      <th>Genre</th>\n",
       "      <th>BookCategory</th>\n",
       "    </tr>\n",
       "  </thead>\n",
       "  <tbody>\n",
       "    <tr>\n",
       "      <th>count</th>\n",
       "      <td>1560</td>\n",
       "      <td>1560</td>\n",
       "      <td>1560</td>\n",
       "      <td>1560</td>\n",
       "      <td>1560</td>\n",
       "      <td>1560</td>\n",
       "      <td>1560</td>\n",
       "      <td>1560</td>\n",
       "    </tr>\n",
       "    <tr>\n",
       "      <th>unique</th>\n",
       "      <td>1521</td>\n",
       "      <td>1224</td>\n",
       "      <td>1259</td>\n",
       "      <td>30</td>\n",
       "      <td>163</td>\n",
       "      <td>1519</td>\n",
       "      <td>225</td>\n",
       "      <td>11</td>\n",
       "    </tr>\n",
       "    <tr>\n",
       "      <th>top</th>\n",
       "      <td>The Five Greatest Warriors (Jack West Series)</td>\n",
       "      <td>Agatha Christie</td>\n",
       "      <td>Paperback,– 5 Oct 2017</td>\n",
       "      <td>5.0 out of 5 stars</td>\n",
       "      <td>1 customer review</td>\n",
       "      <td>The end is approaching ... Can Jack West unrav...</td>\n",
       "      <td>Action &amp; Adventure (Books)</td>\n",
       "      <td>Action &amp; Adventure</td>\n",
       "    </tr>\n",
       "    <tr>\n",
       "      <th>freq</th>\n",
       "      <td>3</td>\n",
       "      <td>18</td>\n",
       "      <td>12</td>\n",
       "      <td>376</td>\n",
       "      <td>288</td>\n",
       "      <td>3</td>\n",
       "      <td>236</td>\n",
       "      <td>218</td>\n",
       "    </tr>\n",
       "  </tbody>\n",
       "</table>\n",
       "</div>"
      ],
      "text/plain": [
       "                                                Title           Author  \\\n",
       "count                                            1560             1560   \n",
       "unique                                           1521             1224   \n",
       "top     The Five Greatest Warriors (Jack West Series)  Agatha Christie   \n",
       "freq                                                3               18   \n",
       "\n",
       "                       Edition             Reviews            Ratings  \\\n",
       "count                     1560                1560               1560   \n",
       "unique                    1259                  30                163   \n",
       "top     Paperback,– 5 Oct 2017  5.0 out of 5 stars  1 customer review   \n",
       "freq                        12                 376                288   \n",
       "\n",
       "                                                 Synopsis  \\\n",
       "count                                                1560   \n",
       "unique                                               1519   \n",
       "top     The end is approaching ... Can Jack West unrav...   \n",
       "freq                                                    3   \n",
       "\n",
       "                             Genre        BookCategory  \n",
       "count                         1560                1560  \n",
       "unique                         225                  11  \n",
       "top     Action & Adventure (Books)  Action & Adventure  \n",
       "freq                           236                 218  "
      ]
     },
     "execution_count": 9,
     "metadata": {},
     "output_type": "execute_result"
    }
   ],
   "source": [
    "books.describe()"
   ]
  },
  {
   "cell_type": "code",
   "execution_count": 10,
   "id": "3fcde190",
   "metadata": {},
   "outputs": [],
   "source": [
    "# sns.distplot(books.Price)\n",
    "# plt.show()"
   ]
  },
  {
   "cell_type": "code",
   "execution_count": 11,
   "id": "fd67b00c",
   "metadata": {},
   "outputs": [],
   "source": [
    "# Highly right skewed data due to a few expensive books"
   ]
  },
  {
   "cell_type": "code",
   "execution_count": 12,
   "id": "c7621853",
   "metadata": {},
   "outputs": [
    {
     "data": {
      "text/plain": [
       "1521"
      ]
     },
     "execution_count": 12,
     "metadata": {},
     "output_type": "execute_result"
    }
   ],
   "source": [
    "books.Title.nunique()"
   ]
  },
  {
   "cell_type": "code",
   "execution_count": 13,
   "id": "62aa54f4",
   "metadata": {},
   "outputs": [
    {
     "data": {
      "text/plain": [
       "1224"
      ]
     },
     "execution_count": 13,
     "metadata": {},
     "output_type": "execute_result"
    }
   ],
   "source": [
    "books.Author.nunique()"
   ]
  },
  {
   "cell_type": "code",
   "execution_count": 14,
   "id": "0e4c6e81",
   "metadata": {},
   "outputs": [
    {
     "data": {
      "text/plain": [
       "Title                                                                                                                                                          Edition                            \n",
       "A Dance with Dragon: After the Feast - Part 2 (A Song of Ice and Fire)                                                                                         Paperback,– 15 Mar 2012                2\n",
       "Accidental Heroes                                                                                                                                              Paperback,– 22 Mar 2018                2\n",
       "Alita: Battle Angel – The Official Movie Novelization                                                                                                          Paperback,– 14 Feb 2019                2\n",
       "Art of Sin City                                                                                                                                                Paperback,– 15 Jul 2014                2\n",
       "Asterix And The Falling Sky: Album 33                                                                                                                          Paperback,– 21 Sep 2006                2\n",
       "Asterix and the Normans: Album 9                                                                                                                               Paperback,– 16 Jun 2005                2\n",
       "Asterix on the Warpath                                                                                                                                         Hardcover,– 29 Jan 2016                2\n",
       "CTS-D Certified Technology Specialist-Design Exam Guide                                                                                                        Paperback,– Audiobook, 16 Jun 2016     2\n",
       "Courtney's War                                                                                                                                                 Paperback,– 6 Sep 2018                 2\n",
       "Doing Justice: A Prosecutor’s Thoughts on Crime, Punishment and the Rule of Law                                                                                Paperback,– 19 Mar 2019                3\n",
       "Everybody Lies: The New York Times Bestseller                                                                                                                  Paperback,– 18 Apr 2018                2\n",
       "Everyman's War: Strategy, Security and Terrorism in India                                                                                                      Paperback,– 28 Jul 2013                2\n",
       "Flint                                                                                                                                                          Mass Market Paperback,– 3 Nov 1997     2\n",
       "Have A Nice Day: A Tale of Blood and Sweatsocks                                                                                                                Mass Market Paperback,– 3 Oct 2000     2\n",
       "Hot Rocks                                                                                                                                                      Mass Market Paperback,– 26 Jan 2010    2\n",
       "Japanese Kanji for Beginners: (JLPT Levels N5 & N4) First Steps to Learn the Basic Japanese Characters (Includes CD-Rom)                                       Paperback,– 17 Jan 2017                2\n",
       "Long Walk To Freedom                                                                                                                                           Paperback,– 12 Oct 1995                2\n",
       "Making Comics: Storytelling Secrets of Comics, Manga and Graphic Novels                                                                                        Paperback,– 5 Sep 2006                 2\n",
       "New Power: Why outsiders are winning, institutions are failing, and how the rest of us can keep up in the age of mass participation (My First Touch and Find)  Paperback,– 4 Apr 2018                 2\n",
       "Priyanka Chopra: The Dark Horse                                                                                                                                Paperback,– 11 Jun 2018                2\n",
       "Ready Player One                                                                                                                                               Paperback,– 5 Apr 2012                 2\n",
       "Rebel without a Crew: Or How a 23-Year-Old Filmmaker With $7,000 Became a Hollywood Player                                                                     Paperback,– 1 Sep 1996                 2\n",
       "Seriously...I'm Kidding                                                                                                                                        Paperback,– 25 Sep 2012                2\n",
       "Storm and Silence: Volume 1 (Storm and Silence Saga)                                                                                                           Paperback,– 19 Mar 2016                2\n",
       "The Curious Incident of the Dog in the Night-time (Vintage Childrens Classics)                                                                                 Paperback,– 2 Aug 2012                 2\n",
       "The Eagle Has Landed (Liam Devlin)                                                                                                                             Mass Market Paperback,– 1 Jun 2000     2\n",
       "The Five Greatest Warriors (Jack West Series)                                                                                                                  Paperback,– 25 Nov 2010                3\n",
       "The Fourth Protocol                                                                                                                                            Paperback,– 7 Apr 2011                 2\n",
       "The Legend of Zelda: Art & Artifacts                                                                                                                           Hardcover,– 21 Feb 2017                2\n",
       "The Letters of Vincent Van Gogh (Penguin Classics)                                                                                                             Paperback,– 31 Jul 1997                2\n",
       "The Mysterious Affair at Styles                                                                                                                                Paperback,– 10 Jul 2018                2\n",
       "The Nectar of Pain                                                                                                                                             Paperback,– 2 Oct 2018                 2\n",
       "The Princess Bride: S. Morgenstern's Classic Tale of True Love and High Adventure                                                                              Mass Market Paperback,– 26 Mar 2010    2\n",
       "The Rustlers of the West Fork (Hopalong Cassidy)                                                                                                               Mass Market Paperback,– 1 Apr 1992     2\n",
       "Understanding Comics                                                                                                                                           Paperback,– 27 Apr 1994                2\n",
       "Wild Justice                                                                                                                                                   Paperback,– 7 Oct 2011                 2\n",
       "Zayn                                                                                                                                                           Hardcover,– 7 Dec 2016                 2\n",
       "Name: Edition, dtype: int64"
      ]
     },
     "execution_count": 14,
     "metadata": {},
     "output_type": "execute_result"
    }
   ],
   "source": [
    "val = books.groupby('Title')['Edition'].value_counts()\n",
    "val[val > 1]"
   ]
  },
  {
   "cell_type": "code",
   "execution_count": 15,
   "id": "f3b181ce",
   "metadata": {},
   "outputs": [
    {
     "data": {
      "text/html": [
       "<div>\n",
       "<style scoped>\n",
       "    .dataframe tbody tr th:only-of-type {\n",
       "        vertical-align: middle;\n",
       "    }\n",
       "\n",
       "    .dataframe tbody tr th {\n",
       "        vertical-align: top;\n",
       "    }\n",
       "\n",
       "    .dataframe thead th {\n",
       "        text-align: right;\n",
       "    }\n",
       "</style>\n",
       "<table border=\"1\" class=\"dataframe\">\n",
       "  <thead>\n",
       "    <tr style=\"text-align: right;\">\n",
       "      <th></th>\n",
       "      <th>Title</th>\n",
       "      <th>Author</th>\n",
       "      <th>Edition</th>\n",
       "      <th>Reviews</th>\n",
       "      <th>Ratings</th>\n",
       "      <th>Synopsis</th>\n",
       "      <th>Genre</th>\n",
       "      <th>BookCategory</th>\n",
       "    </tr>\n",
       "  </thead>\n",
       "  <tbody>\n",
       "  </tbody>\n",
       "</table>\n",
       "</div>"
      ],
      "text/plain": [
       "Empty DataFrame\n",
       "Columns: [Title, Author, Edition, Reviews, Ratings, Synopsis, Genre, BookCategory]\n",
       "Index: []"
      ]
     },
     "execution_count": 15,
     "metadata": {},
     "output_type": "execute_result"
    }
   ],
   "source": [
    "books[books.Title == '1984']"
   ]
  },
  {
   "cell_type": "code",
   "execution_count": 16,
   "id": "7d79a6f8",
   "metadata": {},
   "outputs": [
    {
     "data": {
      "text/plain": [
       "225"
      ]
     },
     "execution_count": 16,
     "metadata": {},
     "output_type": "execute_result"
    }
   ],
   "source": [
    "books.Genre.nunique()"
   ]
  },
  {
   "cell_type": "markdown",
   "id": "c2ef3fae",
   "metadata": {},
   "source": [
    "# Cleaning"
   ]
  },
  {
   "cell_type": "code",
   "execution_count": 17,
   "id": "7b3f9aa0",
   "metadata": {},
   "outputs": [],
   "source": [
    "df1 = books.copy()"
   ]
  },
  {
   "cell_type": "code",
   "execution_count": 18,
   "id": "2006ea0c",
   "metadata": {},
   "outputs": [
    {
     "data": {
      "text/plain": [
       "0       [Mass Market Paperback,  1 Oct 1986]\n",
       "1          [Paperback,  Import, 26 Apr 2018]\n",
       "2                  [Paperback,  17 Mar 2011]\n",
       "3                         [Paperback,  2016]\n",
       "4                  [Paperback,  26 Dec 2011]\n",
       "                        ...                 \n",
       "1555               [Paperback,  14 Apr 2011]\n",
       "1556                [Paperback,  8 May 2013]\n",
       "1557                [Paperback,  6 Sep 2011]\n",
       "1558               [Paperback,  22 Sep 2009]\n",
       "1559               [Paperback,  16 Sep 2016]\n",
       "Name: Edition, Length: 1560, dtype: object"
      ]
     },
     "execution_count": 18,
     "metadata": {},
     "output_type": "execute_result"
    }
   ],
   "source": [
    "df1.Edition.str.split(',–')"
   ]
  },
  {
   "cell_type": "code",
   "execution_count": 19,
   "id": "2cfb2c17",
   "metadata": {},
   "outputs": [],
   "source": [
    "def cover(x):\n",
    "    return x.split(',–')[0]"
   ]
  },
  {
   "cell_type": "code",
   "execution_count": 20,
   "id": "6b57fe7b",
   "metadata": {},
   "outputs": [],
   "source": [
    "df1['cover_type'] = df1['Edition'].map(cover)"
   ]
  },
  {
   "cell_type": "code",
   "execution_count": 21,
   "id": "2425b939",
   "metadata": {},
   "outputs": [
    {
     "data": {
      "text/plain": [
       "array(['Mass Market Paperback', 'Paperback', 'Hardcover', 'Cards',\n",
       "       'Sheet music', 'Flexibound', 'Spiral-bound', '(Chinese),Paperback',\n",
       "       'Loose Leaf'], dtype=object)"
      ]
     },
     "execution_count": 21,
     "metadata": {},
     "output_type": "execute_result"
    }
   ],
   "source": [
    "df1.cover_type.unique()"
   ]
  },
  {
   "cell_type": "code",
   "execution_count": 22,
   "id": "1fe7e1e6",
   "metadata": {},
   "outputs": [],
   "source": [
    "def covers(x):\n",
    "    return x.split(',')[-1]"
   ]
  },
  {
   "cell_type": "code",
   "execution_count": 23,
   "id": "db30819a",
   "metadata": {},
   "outputs": [],
   "source": [
    "df1['cover_type'] = df1.cover_type.map(covers)"
   ]
  },
  {
   "cell_type": "code",
   "execution_count": 24,
   "id": "828938f6",
   "metadata": {},
   "outputs": [
    {
     "data": {
      "text/plain": [
       "array(['Mass Market Paperback', 'Paperback', 'Hardcover', 'Cards',\n",
       "       'Sheet music', 'Flexibound', 'Spiral-bound', 'Loose Leaf'],\n",
       "      dtype=object)"
      ]
     },
     "execution_count": 24,
     "metadata": {},
     "output_type": "execute_result"
    }
   ],
   "source": [
    "df1.cover_type.unique()"
   ]
  },
  {
   "cell_type": "code",
   "execution_count": 25,
   "id": "fe08ee50",
   "metadata": {},
   "outputs": [
    {
     "data": {
      "text/plain": [
       "Paperback                1266\n",
       "Hardcover                 233\n",
       "Mass Market Paperback      45\n",
       "Sheet music                 8\n",
       "Flexibound                  4\n",
       "Spiral-bound                2\n",
       "Cards                       1\n",
       "Loose Leaf                  1\n",
       "Name: cover_type, dtype: int64"
      ]
     },
     "execution_count": 25,
     "metadata": {},
     "output_type": "execute_result"
    }
   ],
   "source": [
    "df1.cover_type.value_counts()"
   ]
  },
  {
   "cell_type": "code",
   "execution_count": 26,
   "id": "132c909d",
   "metadata": {},
   "outputs": [],
   "source": [
    "def final_cover(x):\n",
    "    lst = ['Paperback', 'Hardcover', 'Mass Market Paperback']\n",
    "    if x not in lst:\n",
    "        return 'Other'\n",
    "    else:\n",
    "        return x"
   ]
  },
  {
   "cell_type": "code",
   "execution_count": 27,
   "id": "0584caa2",
   "metadata": {},
   "outputs": [
    {
     "data": {
      "text/plain": [
       "Paperback                1266\n",
       "Hardcover                 233\n",
       "Mass Market Paperback      45\n",
       "Other                      16\n",
       "Name: cover_type, dtype: int64"
      ]
     },
     "execution_count": 27,
     "metadata": {},
     "output_type": "execute_result"
    }
   ],
   "source": [
    "df1.cover_type = df1.cover_type.map(final_cover)\n",
    "df1.cover_type.value_counts()"
   ]
  },
  {
   "cell_type": "code",
   "execution_count": 28,
   "id": "02e160a8",
   "metadata": {},
   "outputs": [
    {
     "data": {
      "image/png": "[encoded data removed]",
      "text/plain": [
       "<Figure size 432x288 with 1 Axes>"
      ]
     },
     "metadata": {
      "needs_background": "light"
     },
     "output_type": "display_data"
    }
   ],
   "source": [
    "sns.countplot(df1.cover_type)\n",
    "plt.show()"
   ]
  },
  {
   "cell_type": "code",
   "execution_count": 29,
   "id": "b7ded38d",
   "metadata": {},
   "outputs": [
    {
     "data": {
      "text/html": [
       "<div>\n",
       "<style scoped>\n",
       "    .dataframe tbody tr th:only-of-type {\n",
       "        vertical-align: middle;\n",
       "    }\n",
       "\n",
       "    .dataframe tbody tr th {\n",
       "        vertical-align: top;\n",
       "    }\n",
       "\n",
       "    .dataframe thead th {\n",
       "        text-align: right;\n",
       "    }\n",
       "</style>\n",
       "<table border=\"1\" class=\"dataframe\">\n",
       "  <thead>\n",
       "    <tr style=\"text-align: right;\">\n",
       "      <th></th>\n",
       "      <th>Title</th>\n",
       "      <th>Author</th>\n",
       "      <th>Edition</th>\n",
       "      <th>Reviews</th>\n",
       "      <th>Ratings</th>\n",
       "      <th>Synopsis</th>\n",
       "      <th>Genre</th>\n",
       "      <th>BookCategory</th>\n",
       "      <th>cover_type</th>\n",
       "    </tr>\n",
       "  </thead>\n",
       "  <tbody>\n",
       "    <tr>\n",
       "      <th>0</th>\n",
       "      <td>The Complete Sherlock Holmes: 2 Boxes sets</td>\n",
       "      <td>Sir Arthur Conan Doyle</td>\n",
       "      <td>Mass Market Paperback,– 1 Oct 1986</td>\n",
       "      <td>4.4 out of 5 stars</td>\n",
       "      <td>960 customer reviews</td>\n",
       "      <td>A collection of entire body of work of the She...</td>\n",
       "      <td>Short Stories (Books)</td>\n",
       "      <td>Crime, Thriller &amp; Mystery</td>\n",
       "      <td>Mass Market Paperback</td>\n",
       "    </tr>\n",
       "    <tr>\n",
       "      <th>1</th>\n",
       "      <td>Learn Docker - Fundamentals of Docker 18.x: Ev...</td>\n",
       "      <td>Gabriel N. Schenker</td>\n",
       "      <td>Paperback,– Import, 26 Apr 2018</td>\n",
       "      <td>5.0 out of 5 stars</td>\n",
       "      <td>1 customer review</td>\n",
       "      <td>Enhance your software deployment workflow usin...</td>\n",
       "      <td>Operating Systems Textbooks</td>\n",
       "      <td>Computing, Internet &amp; Digital Media</td>\n",
       "      <td>Paperback</td>\n",
       "    </tr>\n",
       "    <tr>\n",
       "      <th>2</th>\n",
       "      <td>Big Girl</td>\n",
       "      <td>Danielle Steel</td>\n",
       "      <td>Paperback,– 17 Mar 2011</td>\n",
       "      <td>5.0 out of 5 stars</td>\n",
       "      <td>4 customer reviews</td>\n",
       "      <td>'Watch out, world. Here I come!'\\nFor Victoria...</td>\n",
       "      <td>Romance (Books)</td>\n",
       "      <td>Romance</td>\n",
       "      <td>Paperback</td>\n",
       "    </tr>\n",
       "    <tr>\n",
       "      <th>3</th>\n",
       "      <td>Think Python: How to Think Like a Computer Sci...</td>\n",
       "      <td>Allen B. Downey</td>\n",
       "      <td>Paperback,– 2016</td>\n",
       "      <td>4.1 out of 5 stars</td>\n",
       "      <td>11 customer reviews</td>\n",
       "      <td>If you want to learn how to program, working w...</td>\n",
       "      <td>Programming &amp; Software Development (Books)</td>\n",
       "      <td>Computing, Internet &amp; Digital Media</td>\n",
       "      <td>Paperback</td>\n",
       "    </tr>\n",
       "    <tr>\n",
       "      <th>4</th>\n",
       "      <td>Oxford Word Skills: Advanced - Idioms &amp; Phrasa...</td>\n",
       "      <td>Redman Gairns</td>\n",
       "      <td>Paperback,– 26 Dec 2011</td>\n",
       "      <td>4.4 out of 5 stars</td>\n",
       "      <td>9 customer reviews</td>\n",
       "      <td>Learn and practise the verbs, prepositions and...</td>\n",
       "      <td>Linguistics (Books)</td>\n",
       "      <td>Language, Linguistics &amp; Writing</td>\n",
       "      <td>Paperback</td>\n",
       "    </tr>\n",
       "  </tbody>\n",
       "</table>\n",
       "</div>"
      ],
      "text/plain": [
       "                                               Title                  Author  \\\n",
       "0         The Complete Sherlock Holmes: 2 Boxes sets  Sir Arthur Conan Doyle   \n",
       "1  Learn Docker - Fundamentals of Docker 18.x: Ev...     Gabriel N. Schenker   \n",
       "2                                           Big Girl          Danielle Steel   \n",
       "3  Think Python: How to Think Like a Computer Sci...         Allen B. Downey   \n",
       "4  Oxford Word Skills: Advanced - Idioms & Phrasa...           Redman Gairns   \n",
       "\n",
       "                              Edition             Reviews  \\\n",
       "0  Mass Market Paperback,– 1 Oct 1986  4.4 out of 5 stars   \n",
       "1     Paperback,– Import, 26 Apr 2018  5.0 out of 5 stars   \n",
       "2             Paperback,– 17 Mar 2011  5.0 out of 5 stars   \n",
       "3                    Paperback,– 2016  4.1 out of 5 stars   \n",
       "4             Paperback,– 26 Dec 2011  4.4 out of 5 stars   \n",
       "\n",
       "                Ratings                                           Synopsis  \\\n",
       "0  960 customer reviews  A collection of entire body of work of the She...   \n",
       "1     1 customer review  Enhance your software deployment workflow usin...   \n",
       "2    4 customer reviews  'Watch out, world. Here I come!'\\nFor Victoria...   \n",
       "3   11 customer reviews  If you want to learn how to program, working w...   \n",
       "4    9 customer reviews  Learn and practise the verbs, prepositions and...   \n",
       "\n",
       "                                        Genre  \\\n",
       "0                       Short Stories (Books)   \n",
       "1                 Operating Systems Textbooks   \n",
       "2                             Romance (Books)   \n",
       "3  Programming & Software Development (Books)   \n",
       "4                         Linguistics (Books)   \n",
       "\n",
       "                          BookCategory             cover_type  \n",
       "0            Crime, Thriller & Mystery  Mass Market Paperback  \n",
       "1  Computing, Internet & Digital Media              Paperback  \n",
       "2                              Romance              Paperback  \n",
       "3  Computing, Internet & Digital Media              Paperback  \n",
       "4      Language, Linguistics & Writing              Paperback  "
      ]
     },
     "execution_count": 29,
     "metadata": {},
     "output_type": "execute_result"
    }
   ],
   "source": [
    "df1.head()"
   ]
  },
  {
   "cell_type": "code",
   "execution_count": 30,
   "id": "de2e5263",
   "metadata": {},
   "outputs": [],
   "source": [
    "def ed_year(x):\n",
    "    pattern = '\\d{4}'\n",
    "    match = re.findall(pattern, x)\n",
    "    temp = ''.join(match)\n",
    "    if temp != '':\n",
    "        return int(temp)"
   ]
  },
  {
   "cell_type": "code",
   "execution_count": 31,
   "id": "a85d8041",
   "metadata": {},
   "outputs": [],
   "source": [
    "df1['edition_year'] = df1['Edition'].map(ed_year)"
   ]
  },
  {
   "cell_type": "code",
   "execution_count": 32,
   "id": "028ae9fc",
   "metadata": {},
   "outputs": [
    {
     "data": {
      "image/png": "[encoded data removed]",
      "text/plain": [
       "<Figure size 1080x576 with 1 Axes>"
      ]
     },
     "metadata": {
      "needs_background": "light"
     },
     "output_type": "display_data"
    }
   ],
   "source": [
    "plt.rcParams['figure.figsize'] = [15, 8]\n",
    "sns.countplot(df1.edition_year)\n",
    "plt.xticks(rotation=90)\n",
    "plt.show()"
   ]
  },
  {
   "cell_type": "code",
   "execution_count": 33,
   "id": "11723d7f",
   "metadata": {},
   "outputs": [],
   "source": [
    "df1['edition_year_cat'] = pd.cut(df1['edition_year'], bins=[1899, 1981, 1999, 2010, 2020], labels=['Very Old', 'Old', 'Mid', 'New'])"
   ]
  },
  {
   "cell_type": "code",
   "execution_count": 34,
   "id": "3b78dc37",
   "metadata": {},
   "outputs": [
    {
     "data": {
      "image/png": "[encoded data removed]",
      "text/plain": [
       "<Figure size 1080x576 with 1 Axes>"
      ]
     },
     "metadata": {
      "needs_background": "light"
     },
     "output_type": "display_data"
    }
   ],
   "source": [
    "sns.countplot(df1.edition_year_cat)\n",
    "plt.xticks(rotation=90)\n",
    "plt.show()"
   ]
  },
  {
   "cell_type": "code",
   "execution_count": 35,
   "id": "5560170a",
   "metadata": {
    "scrolled": true
   },
   "outputs": [
    {
     "data": {
      "text/html": [
       "<div>\n",
       "<style scoped>\n",
       "    .dataframe tbody tr th:only-of-type {\n",
       "        vertical-align: middle;\n",
       "    }\n",
       "\n",
       "    .dataframe tbody tr th {\n",
       "        vertical-align: top;\n",
       "    }\n",
       "\n",
       "    .dataframe thead th {\n",
       "        text-align: right;\n",
       "    }\n",
       "</style>\n",
       "<table border=\"1\" class=\"dataframe\">\n",
       "  <thead>\n",
       "    <tr style=\"text-align: right;\">\n",
       "      <th></th>\n",
       "      <th>Title</th>\n",
       "      <th>Author</th>\n",
       "      <th>Edition</th>\n",
       "      <th>Reviews</th>\n",
       "      <th>Ratings</th>\n",
       "      <th>Synopsis</th>\n",
       "      <th>Genre</th>\n",
       "      <th>BookCategory</th>\n",
       "      <th>cover_type</th>\n",
       "      <th>edition_year</th>\n",
       "      <th>edition_year_cat</th>\n",
       "    </tr>\n",
       "  </thead>\n",
       "  <tbody>\n",
       "    <tr>\n",
       "      <th>0</th>\n",
       "      <td>The Complete Sherlock Holmes: 2 Boxes sets</td>\n",
       "      <td>Sir Arthur Conan Doyle</td>\n",
       "      <td>Mass Market Paperback,– 1 Oct 1986</td>\n",
       "      <td>4.4 out of 5 stars</td>\n",
       "      <td>960 customer reviews</td>\n",
       "      <td>A collection of entire body of work of the She...</td>\n",
       "      <td>Short Stories (Books)</td>\n",
       "      <td>Crime, Thriller &amp; Mystery</td>\n",
       "      <td>Mass Market Paperback</td>\n",
       "      <td>1986.0</td>\n",
       "      <td>Old</td>\n",
       "    </tr>\n",
       "    <tr>\n",
       "      <th>1</th>\n",
       "      <td>Learn Docker - Fundamentals of Docker 18.x: Ev...</td>\n",
       "      <td>Gabriel N. Schenker</td>\n",
       "      <td>Paperback,– Import, 26 Apr 2018</td>\n",
       "      <td>5.0 out of 5 stars</td>\n",
       "      <td>1 customer review</td>\n",
       "      <td>Enhance your software deployment workflow usin...</td>\n",
       "      <td>Operating Systems Textbooks</td>\n",
       "      <td>Computing, Internet &amp; Digital Media</td>\n",
       "      <td>Paperback</td>\n",
       "      <td>2018.0</td>\n",
       "      <td>New</td>\n",
       "    </tr>\n",
       "    <tr>\n",
       "      <th>2</th>\n",
       "      <td>Big Girl</td>\n",
       "      <td>Danielle Steel</td>\n",
       "      <td>Paperback,– 17 Mar 2011</td>\n",
       "      <td>5.0 out of 5 stars</td>\n",
       "      <td>4 customer reviews</td>\n",
       "      <td>'Watch out, world. Here I come!'\\nFor Victoria...</td>\n",
       "      <td>Romance (Books)</td>\n",
       "      <td>Romance</td>\n",
       "      <td>Paperback</td>\n",
       "      <td>2011.0</td>\n",
       "      <td>New</td>\n",
       "    </tr>\n",
       "    <tr>\n",
       "      <th>3</th>\n",
       "      <td>Think Python: How to Think Like a Computer Sci...</td>\n",
       "      <td>Allen B. Downey</td>\n",
       "      <td>Paperback,– 2016</td>\n",
       "      <td>4.1 out of 5 stars</td>\n",
       "      <td>11 customer reviews</td>\n",
       "      <td>If you want to learn how to program, working w...</td>\n",
       "      <td>Programming &amp; Software Development (Books)</td>\n",
       "      <td>Computing, Internet &amp; Digital Media</td>\n",
       "      <td>Paperback</td>\n",
       "      <td>2016.0</td>\n",
       "      <td>New</td>\n",
       "    </tr>\n",
       "    <tr>\n",
       "      <th>4</th>\n",
       "      <td>Oxford Word Skills: Advanced - Idioms &amp; Phrasa...</td>\n",
       "      <td>Redman Gairns</td>\n",
       "      <td>Paperback,– 26 Dec 2011</td>\n",
       "      <td>4.4 out of 5 stars</td>\n",
       "      <td>9 customer reviews</td>\n",
       "      <td>Learn and practise the verbs, prepositions and...</td>\n",
       "      <td>Linguistics (Books)</td>\n",
       "      <td>Language, Linguistics &amp; Writing</td>\n",
       "      <td>Paperback</td>\n",
       "      <td>2011.0</td>\n",
       "      <td>New</td>\n",
       "    </tr>\n",
       "  </tbody>\n",
       "</table>\n",
       "</div>"
      ],
      "text/plain": [
       "                                               Title                  Author  \\\n",
       "0         The Complete Sherlock Holmes: 2 Boxes sets  Sir Arthur Conan Doyle   \n",
       "1  Learn Docker - Fundamentals of Docker 18.x: Ev...     Gabriel N. Schenker   \n",
       "2                                           Big Girl          Danielle Steel   \n",
       "3  Think Python: How to Think Like a Computer Sci...         Allen B. Downey   \n",
       "4  Oxford Word Skills: Advanced - Idioms & Phrasa...           Redman Gairns   \n",
       "\n",
       "                              Edition             Reviews  \\\n",
       "0  Mass Market Paperback,– 1 Oct 1986  4.4 out of 5 stars   \n",
       "1     Paperback,– Import, 26 Apr 2018  5.0 out of 5 stars   \n",
       "2             Paperback,– 17 Mar 2011  5.0 out of 5 stars   \n",
       "3                    Paperback,– 2016  4.1 out of 5 stars   \n",
       "4             Paperback,– 26 Dec 2011  4.4 out of 5 stars   \n",
       "\n",
       "                Ratings                                           Synopsis  \\\n",
       "0  960 customer reviews  A collection of entire body of work of the She...   \n",
       "1     1 customer review  Enhance your software deployment workflow usin...   \n",
       "2    4 customer reviews  'Watch out, world. Here I come!'\\nFor Victoria...   \n",
       "3   11 customer reviews  If you want to learn how to program, working w...   \n",
       "4    9 customer reviews  Learn and practise the verbs, prepositions and...   \n",
       "\n",
       "                                        Genre  \\\n",
       "0                       Short Stories (Books)   \n",
       "1                 Operating Systems Textbooks   \n",
       "2                             Romance (Books)   \n",
       "3  Programming & Software Development (Books)   \n",
       "4                         Linguistics (Books)   \n",
       "\n",
       "                          BookCategory             cover_type  edition_year  \\\n",
       "0            Crime, Thriller & Mystery  Mass Market Paperback        1986.0   \n",
       "1  Computing, Internet & Digital Media              Paperback        2018.0   \n",
       "2                              Romance              Paperback        2011.0   \n",
       "3  Computing, Internet & Digital Media              Paperback        2016.0   \n",
       "4      Language, Linguistics & Writing              Paperback        2011.0   \n",
       "\n",
       "  edition_year_cat  \n",
       "0              Old  \n",
       "1              New  \n",
       "2              New  \n",
       "3              New  \n",
       "4              New  "
      ]
     },
     "execution_count": 35,
     "metadata": {},
     "output_type": "execute_result"
    }
   ],
   "source": [
    "df1.head()"
   ]
  },
  {
   "cell_type": "code",
   "execution_count": 36,
   "id": "0bd1fffb",
   "metadata": {
    "scrolled": true
   },
   "outputs": [
    {
     "data": {
      "text/html": [
       "<div>\n",
       "<style scoped>\n",
       "    .dataframe tbody tr th:only-of-type {\n",
       "        vertical-align: middle;\n",
       "    }\n",
       "\n",
       "    .dataframe tbody tr th {\n",
       "        vertical-align: top;\n",
       "    }\n",
       "\n",
       "    .dataframe thead th {\n",
       "        text-align: right;\n",
       "    }\n",
       "</style>\n",
       "<table border=\"1\" class=\"dataframe\">\n",
       "  <thead>\n",
       "    <tr style=\"text-align: right;\">\n",
       "      <th></th>\n",
       "      <th>Title</th>\n",
       "      <th>Author</th>\n",
       "      <th>Edition</th>\n",
       "      <th>Reviews</th>\n",
       "      <th>Ratings</th>\n",
       "      <th>Synopsis</th>\n",
       "      <th>Genre</th>\n",
       "      <th>BookCategory</th>\n",
       "      <th>cover_type</th>\n",
       "      <th>edition_year</th>\n",
       "      <th>edition_year_cat</th>\n",
       "    </tr>\n",
       "  </thead>\n",
       "  <tbody>\n",
       "    <tr>\n",
       "      <th>97</th>\n",
       "      <td>34 Bubblegums and Candies</td>\n",
       "      <td>Preeti Shenoy</td>\n",
       "      <td>Paperback,– Audiobook, Illustrated, Large Print</td>\n",
       "      <td>3.6 out of 5 stars</td>\n",
       "      <td>156 customer reviews</td>\n",
       "      <td>An anthology of some light-minded and heart-wa...</td>\n",
       "      <td>Indian Writing (Books)</td>\n",
       "      <td>Romance</td>\n",
       "      <td>Paperback</td>\n",
       "      <td>NaN</td>\n",
       "      <td>NaN</td>\n",
       "    </tr>\n",
       "    <tr>\n",
       "      <th>178</th>\n",
       "      <td>Gandhi: My Life is My Message</td>\n",
       "      <td>Jason Quinn, Sachin Nagar</td>\n",
       "      <td>Paperback,– Import, Illustrated</td>\n",
       "      <td>4.0 out of 5 stars</td>\n",
       "      <td>11 customer reviews</td>\n",
       "      <td>My life is my message. Mohandas Gandhi was a f...</td>\n",
       "      <td>Comics &amp; Mangas (Books)</td>\n",
       "      <td>Comics &amp; Mangas</td>\n",
       "      <td>Paperback</td>\n",
       "      <td>NaN</td>\n",
       "      <td>NaN</td>\n",
       "    </tr>\n",
       "    <tr>\n",
       "      <th>396</th>\n",
       "      <td>Measurement</td>\n",
       "      <td>Paul Lockhart</td>\n",
       "      <td>Paperback,– Audiobook, Box set, Large Print</td>\n",
       "      <td>5.0 out of 5 stars</td>\n",
       "      <td>2 customer reviews</td>\n",
       "      <td>For seven years, Paul Lockhart's A Mathematici...</td>\n",
       "      <td>Geometry</td>\n",
       "      <td>Politics</td>\n",
       "      <td>Paperback</td>\n",
       "      <td>NaN</td>\n",
       "      <td>NaN</td>\n",
       "    </tr>\n",
       "    <tr>\n",
       "      <th>579</th>\n",
       "      <td>The Spy Chronicles: RAW, ISI and the Illusion ...</td>\n",
       "      <td>A.S. Dulat</td>\n",
       "      <td>Hardcover,– Illustrated, Import</td>\n",
       "      <td>3.5 out of 5 stars</td>\n",
       "      <td>132 customer reviews</td>\n",
       "      <td>Pointing to the horizon where the sea and sky ...</td>\n",
       "      <td>Politics (Books)</td>\n",
       "      <td>Politics</td>\n",
       "      <td>Hardcover</td>\n",
       "      <td>NaN</td>\n",
       "      <td>NaN</td>\n",
       "    </tr>\n",
       "    <tr>\n",
       "      <th>955</th>\n",
       "      <td>Sachin Tendulkar: The Man Cricket Loved Back</td>\n",
       "      <td>ESPN Cricinfo</td>\n",
       "      <td>Paperback,– Abridged, Audiobook, Large Print</td>\n",
       "      <td>4.6 out of 5 stars</td>\n",
       "      <td>124 customer reviews</td>\n",
       "      <td>\"Sachin Sachin\" will reverberate in my ears ti...</td>\n",
       "      <td>Biographies &amp; Autobiographies (Books)</td>\n",
       "      <td>Sports</td>\n",
       "      <td>Paperback</td>\n",
       "      <td>NaN</td>\n",
       "      <td>NaN</td>\n",
       "    </tr>\n",
       "    <tr>\n",
       "      <th>1179</th>\n",
       "      <td>Max Payne 3: The Complete Series</td>\n",
       "      <td>Sam Lake</td>\n",
       "      <td>Hardcover,– Abridged, Audiobook, Box set</td>\n",
       "      <td>4.6 out of 5 stars</td>\n",
       "      <td>3 customer reviews</td>\n",
       "      <td>Co-authored by the writers of the Max Payne fr...</td>\n",
       "      <td>Comics</td>\n",
       "      <td>Comics &amp; Mangas</td>\n",
       "      <td>Hardcover</td>\n",
       "      <td>NaN</td>\n",
       "      <td>NaN</td>\n",
       "    </tr>\n",
       "    <tr>\n",
       "      <th>1191</th>\n",
       "      <td>Pain is Really Strange</td>\n",
       "      <td>Steve Haines</td>\n",
       "      <td>Paperback,– Illustrated, Import</td>\n",
       "      <td>5.0 out of 5 stars</td>\n",
       "      <td>1 customer review</td>\n",
       "      <td>Answering questions such as 'how can I change ...</td>\n",
       "      <td>Healthy Living &amp; Wellness (Books)</td>\n",
       "      <td>Comics &amp; Mangas</td>\n",
       "      <td>Paperback</td>\n",
       "      <td>NaN</td>\n",
       "      <td>NaN</td>\n",
       "    </tr>\n",
       "    <tr>\n",
       "      <th>1408</th>\n",
       "      <td>Frank Miller's Sin City Volume 2: A Dame to Ki...</td>\n",
       "      <td>Frank Miller</td>\n",
       "      <td>Paperback,– Abridged, Audiobook, Box set</td>\n",
       "      <td>5.0 out of 5 stars</td>\n",
       "      <td>3 customer reviews</td>\n",
       "      <td>The second volume of Frank Miller's signature ...</td>\n",
       "      <td>Science &amp; Mathematics</td>\n",
       "      <td>Humour</td>\n",
       "      <td>Paperback</td>\n",
       "      <td>NaN</td>\n",
       "      <td>NaN</td>\n",
       "    </tr>\n",
       "    <tr>\n",
       "      <th>1541</th>\n",
       "      <td>Cartooning, The Professional Step-by-Step Guid...</td>\n",
       "      <td>Ivan Hissey, Curtis Tappenden</td>\n",
       "      <td>Paperback,– Illustrated, Import</td>\n",
       "      <td>3.0 out of 5 stars</td>\n",
       "      <td>1 customer review</td>\n",
       "      <td>A comprehensive and practical guide to drawing...</td>\n",
       "      <td>Handicrafts, Decorative Arts &amp; Crafts (Books)</td>\n",
       "      <td>Computing, Internet &amp; Digital Media</td>\n",
       "      <td>Paperback</td>\n",
       "      <td>NaN</td>\n",
       "      <td>NaN</td>\n",
       "    </tr>\n",
       "  </tbody>\n",
       "</table>\n",
       "</div>"
      ],
      "text/plain": [
       "                                                  Title  \\\n",
       "97                            34 Bubblegums and Candies   \n",
       "178                       Gandhi: My Life is My Message   \n",
       "396                                         Measurement   \n",
       "579   The Spy Chronicles: RAW, ISI and the Illusion ...   \n",
       "955        Sachin Tendulkar: The Man Cricket Loved Back   \n",
       "1179                   Max Payne 3: The Complete Series   \n",
       "1191                             Pain is Really Strange   \n",
       "1408  Frank Miller's Sin City Volume 2: A Dame to Ki...   \n",
       "1541  Cartooning, The Professional Step-by-Step Guid...   \n",
       "\n",
       "                             Author  \\\n",
       "97                    Preeti Shenoy   \n",
       "178       Jason Quinn, Sachin Nagar   \n",
       "396                   Paul Lockhart   \n",
       "579                      A.S. Dulat   \n",
       "955                   ESPN Cricinfo   \n",
       "1179                       Sam Lake   \n",
       "1191                   Steve Haines   \n",
       "1408                   Frank Miller   \n",
       "1541  Ivan Hissey, Curtis Tappenden   \n",
       "\n",
       "                                              Edition             Reviews  \\\n",
       "97    Paperback,– Audiobook, Illustrated, Large Print  3.6 out of 5 stars   \n",
       "178                   Paperback,– Import, Illustrated  4.0 out of 5 stars   \n",
       "396       Paperback,– Audiobook, Box set, Large Print  5.0 out of 5 stars   \n",
       "579                   Hardcover,– Illustrated, Import  3.5 out of 5 stars   \n",
       "955      Paperback,– Abridged, Audiobook, Large Print  4.6 out of 5 stars   \n",
       "1179         Hardcover,– Abridged, Audiobook, Box set  4.6 out of 5 stars   \n",
       "1191                  Paperback,– Illustrated, Import  5.0 out of 5 stars   \n",
       "1408         Paperback,– Abridged, Audiobook, Box set  5.0 out of 5 stars   \n",
       "1541                  Paperback,– Illustrated, Import  3.0 out of 5 stars   \n",
       "\n",
       "                   Ratings                                           Synopsis  \\\n",
       "97    156 customer reviews  An anthology of some light-minded and heart-wa...   \n",
       "178    11 customer reviews  My life is my message. Mohandas Gandhi was a f...   \n",
       "396     2 customer reviews  For seven years, Paul Lockhart's A Mathematici...   \n",
       "579   132 customer reviews  Pointing to the horizon where the sea and sky ...   \n",
       "955   124 customer reviews  \"Sachin Sachin\" will reverberate in my ears ti...   \n",
       "1179    3 customer reviews  Co-authored by the writers of the Max Payne fr...   \n",
       "1191     1 customer review  Answering questions such as 'how can I change ...   \n",
       "1408    3 customer reviews  The second volume of Frank Miller's signature ...   \n",
       "1541     1 customer review  A comprehensive and practical guide to drawing...   \n",
       "\n",
       "                                              Genre  \\\n",
       "97                           Indian Writing (Books)   \n",
       "178                         Comics & Mangas (Books)   \n",
       "396                                        Geometry   \n",
       "579                                Politics (Books)   \n",
       "955           Biographies & Autobiographies (Books)   \n",
       "1179                                         Comics   \n",
       "1191              Healthy Living & Wellness (Books)   \n",
       "1408                          Science & Mathematics   \n",
       "1541  Handicrafts, Decorative Arts & Crafts (Books)   \n",
       "\n",
       "                             BookCategory cover_type  edition_year  \\\n",
       "97                                Romance  Paperback           NaN   \n",
       "178                       Comics & Mangas  Paperback           NaN   \n",
       "396                              Politics  Paperback           NaN   \n",
       "579                              Politics  Hardcover           NaN   \n",
       "955                                Sports  Paperback           NaN   \n",
       "1179                      Comics & Mangas  Hardcover           NaN   \n",
       "1191                      Comics & Mangas  Paperback           NaN   \n",
       "1408                               Humour  Paperback           NaN   \n",
       "1541  Computing, Internet & Digital Media  Paperback           NaN   \n",
       "\n",
       "     edition_year_cat  \n",
       "97                NaN  \n",
       "178               NaN  \n",
       "396               NaN  \n",
       "579               NaN  \n",
       "955               NaN  \n",
       "1179              NaN  \n",
       "1191              NaN  \n",
       "1408              NaN  \n",
       "1541              NaN  "
      ]
     },
     "execution_count": 36,
     "metadata": {},
     "output_type": "execute_result"
    }
   ],
   "source": [
    "df1.loc[df1.edition_year_cat.isna()]"
   ]
  },
  {
   "cell_type": "code",
   "execution_count": 37,
   "id": "b6b00ca5",
   "metadata": {},
   "outputs": [
    {
     "data": {
      "text/plain": [
       "Title               0\n",
       "Author              0\n",
       "Edition             0\n",
       "Reviews             0\n",
       "Ratings             0\n",
       "Synopsis            0\n",
       "Genre               0\n",
       "BookCategory        0\n",
       "cover_type          0\n",
       "edition_year        9\n",
       "edition_year_cat    9\n",
       "dtype: int64"
      ]
     },
     "execution_count": 37,
     "metadata": {},
     "output_type": "execute_result"
    }
   ],
   "source": [
    "df1.isna().sum()"
   ]
  },
  {
   "cell_type": "code",
   "execution_count": 38,
   "id": "0e770822",
   "metadata": {},
   "outputs": [
    {
     "data": {
      "text/plain": [
       "(1560, 11)"
      ]
     },
     "execution_count": 38,
     "metadata": {},
     "output_type": "execute_result"
    }
   ],
   "source": [
    "df1.shape"
   ]
  },
  {
   "cell_type": "code",
   "execution_count": 39,
   "id": "9b91bdc7",
   "metadata": {},
   "outputs": [
    {
     "data": {
      "text/plain": [
       "0    2018.0\n",
       "dtype: float64"
      ]
     },
     "execution_count": 39,
     "metadata": {},
     "output_type": "execute_result"
    }
   ],
   "source": [
    "df1.edition_year.mode()"
   ]
  },
  {
   "cell_type": "code",
   "execution_count": 40,
   "id": "bd34247b",
   "metadata": {},
   "outputs": [],
   "source": [
    "df1.edition_year.fillna(2018.0,inplace=True)"
   ]
  },
  {
   "cell_type": "code",
   "execution_count": 41,
   "id": "8b6fbe7a",
   "metadata": {},
   "outputs": [
    {
     "data": {
      "text/plain": [
       "0    New\n",
       "Name: edition_year_cat, dtype: category\n",
       "Categories (4, object): ['Very Old' < 'Old' < 'Mid' < 'New']"
      ]
     },
     "execution_count": 41,
     "metadata": {},
     "output_type": "execute_result"
    }
   ],
   "source": [
    "df1.edition_year_cat.mode()"
   ]
  },
  {
   "cell_type": "code",
   "execution_count": 42,
   "id": "c3b8e19b",
   "metadata": {},
   "outputs": [],
   "source": [
    "df1.edition_year_cat.fillna(\"New\",inplace=True)"
   ]
  },
  {
   "cell_type": "code",
   "execution_count": 43,
   "id": "ed36d3c0",
   "metadata": {},
   "outputs": [
    {
     "data": {
      "text/plain": [
       "Title               0\n",
       "Author              0\n",
       "Edition             0\n",
       "Reviews             0\n",
       "Ratings             0\n",
       "Synopsis            0\n",
       "Genre               0\n",
       "BookCategory        0\n",
       "cover_type          0\n",
       "edition_year        0\n",
       "edition_year_cat    0\n",
       "dtype: int64"
      ]
     },
     "execution_count": 43,
     "metadata": {},
     "output_type": "execute_result"
    }
   ],
   "source": [
    "df1.isna().sum()"
   ]
  },
  {
   "cell_type": "code",
   "execution_count": 44,
   "id": "792ad707",
   "metadata": {},
   "outputs": [],
   "source": [
    "df2 = df1"
   ]
  },
  {
   "cell_type": "code",
   "execution_count": 45,
   "id": "cd650384",
   "metadata": {},
   "outputs": [
    {
     "data": {
      "text/plain": [
       "(1560, 11)"
      ]
     },
     "execution_count": 45,
     "metadata": {},
     "output_type": "execute_result"
    }
   ],
   "source": [
    "df2.shape"
   ]
  },
  {
   "cell_type": "code",
   "execution_count": 46,
   "id": "bcd43335",
   "metadata": {},
   "outputs": [],
   "source": [
    "df2['edition_year'] = df2['edition_year'].astype(int)"
   ]
  },
  {
   "cell_type": "code",
   "execution_count": 47,
   "id": "6e7146e5",
   "metadata": {},
   "outputs": [
    {
     "name": "stdout",
     "output_type": "stream",
     "text": [
      "<class 'pandas.core.frame.DataFrame'>\n",
      "RangeIndex: 1560 entries, 0 to 1559\n",
      "Data columns (total 11 columns):\n",
      " #   Column            Non-Null Count  Dtype   \n",
      "---  ------            --------------  -----   \n",
      " 0   Title             1560 non-null   object  \n",
      " 1   Author            1560 non-null   object  \n",
      " 2   Edition           1560 non-null   object  \n",
      " 3   Reviews           1560 non-null   object  \n",
      " 4   Ratings           1560 non-null   object  \n",
      " 5   Synopsis          1560 non-null   object  \n",
      " 6   Genre             1560 non-null   object  \n",
      " 7   BookCategory      1560 non-null   object  \n",
      " 8   cover_type        1560 non-null   object  \n",
      " 9   edition_year      1560 non-null   int32   \n",
      " 10  edition_year_cat  1560 non-null   category\n",
      "dtypes: category(1), int32(1), object(9)\n",
      "memory usage: 117.6+ KB\n"
     ]
    }
   ],
   "source": [
    "df2.info()"
   ]
  },
  {
   "cell_type": "code",
   "execution_count": 48,
   "id": "7a39288d",
   "metadata": {},
   "outputs": [
    {
     "data": {
      "text/html": [
       "<div>\n",
       "<style scoped>\n",
       "    .dataframe tbody tr th:only-of-type {\n",
       "        vertical-align: middle;\n",
       "    }\n",
       "\n",
       "    .dataframe tbody tr th {\n",
       "        vertical-align: top;\n",
       "    }\n",
       "\n",
       "    .dataframe thead th {\n",
       "        text-align: right;\n",
       "    }\n",
       "</style>\n",
       "<table border=\"1\" class=\"dataframe\">\n",
       "  <thead>\n",
       "    <tr style=\"text-align: right;\">\n",
       "      <th></th>\n",
       "      <th>Title</th>\n",
       "      <th>Author</th>\n",
       "      <th>Edition</th>\n",
       "      <th>Reviews</th>\n",
       "      <th>Ratings</th>\n",
       "      <th>Synopsis</th>\n",
       "      <th>Genre</th>\n",
       "      <th>BookCategory</th>\n",
       "      <th>cover_type</th>\n",
       "      <th>edition_year</th>\n",
       "      <th>edition_year_cat</th>\n",
       "    </tr>\n",
       "  </thead>\n",
       "  <tbody>\n",
       "    <tr>\n",
       "      <th>0</th>\n",
       "      <td>The Complete Sherlock Holmes: 2 Boxes sets</td>\n",
       "      <td>Sir Arthur Conan Doyle</td>\n",
       "      <td>Mass Market Paperback,– 1 Oct 1986</td>\n",
       "      <td>4.4 out of 5 stars</td>\n",
       "      <td>960 customer reviews</td>\n",
       "      <td>A collection of entire body of work of the She...</td>\n",
       "      <td>Short Stories (Books)</td>\n",
       "      <td>Crime, Thriller &amp; Mystery</td>\n",
       "      <td>Mass Market Paperback</td>\n",
       "      <td>1986</td>\n",
       "      <td>Old</td>\n",
       "    </tr>\n",
       "    <tr>\n",
       "      <th>1</th>\n",
       "      <td>Learn Docker - Fundamentals of Docker 18.x: Ev...</td>\n",
       "      <td>Gabriel N. Schenker</td>\n",
       "      <td>Paperback,– Import, 26 Apr 2018</td>\n",
       "      <td>5.0 out of 5 stars</td>\n",
       "      <td>1 customer review</td>\n",
       "      <td>Enhance your software deployment workflow usin...</td>\n",
       "      <td>Operating Systems Textbooks</td>\n",
       "      <td>Computing, Internet &amp; Digital Media</td>\n",
       "      <td>Paperback</td>\n",
       "      <td>2018</td>\n",
       "      <td>New</td>\n",
       "    </tr>\n",
       "    <tr>\n",
       "      <th>2</th>\n",
       "      <td>Big Girl</td>\n",
       "      <td>Danielle Steel</td>\n",
       "      <td>Paperback,– 17 Mar 2011</td>\n",
       "      <td>5.0 out of 5 stars</td>\n",
       "      <td>4 customer reviews</td>\n",
       "      <td>'Watch out, world. Here I come!'\\nFor Victoria...</td>\n",
       "      <td>Romance (Books)</td>\n",
       "      <td>Romance</td>\n",
       "      <td>Paperback</td>\n",
       "      <td>2011</td>\n",
       "      <td>New</td>\n",
       "    </tr>\n",
       "    <tr>\n",
       "      <th>3</th>\n",
       "      <td>Think Python: How to Think Like a Computer Sci...</td>\n",
       "      <td>Allen B. Downey</td>\n",
       "      <td>Paperback,– 2016</td>\n",
       "      <td>4.1 out of 5 stars</td>\n",
       "      <td>11 customer reviews</td>\n",
       "      <td>If you want to learn how to program, working w...</td>\n",
       "      <td>Programming &amp; Software Development (Books)</td>\n",
       "      <td>Computing, Internet &amp; Digital Media</td>\n",
       "      <td>Paperback</td>\n",
       "      <td>2016</td>\n",
       "      <td>New</td>\n",
       "    </tr>\n",
       "    <tr>\n",
       "      <th>4</th>\n",
       "      <td>Oxford Word Skills: Advanced - Idioms &amp; Phrasa...</td>\n",
       "      <td>Redman Gairns</td>\n",
       "      <td>Paperback,– 26 Dec 2011</td>\n",
       "      <td>4.4 out of 5 stars</td>\n",
       "      <td>9 customer reviews</td>\n",
       "      <td>Learn and practise the verbs, prepositions and...</td>\n",
       "      <td>Linguistics (Books)</td>\n",
       "      <td>Language, Linguistics &amp; Writing</td>\n",
       "      <td>Paperback</td>\n",
       "      <td>2011</td>\n",
       "      <td>New</td>\n",
       "    </tr>\n",
       "  </tbody>\n",
       "</table>\n",
       "</div>"
      ],
      "text/plain": [
       "                                               Title                  Author  \\\n",
       "0         The Complete Sherlock Holmes: 2 Boxes sets  Sir Arthur Conan Doyle   \n",
       "1  Learn Docker - Fundamentals of Docker 18.x: Ev...     Gabriel N. Schenker   \n",
       "2                                           Big Girl          Danielle Steel   \n",
       "3  Think Python: How to Think Like a Computer Sci...         Allen B. Downey   \n",
       "4  Oxford Word Skills: Advanced - Idioms & Phrasa...           Redman Gairns   \n",
       "\n",
       "                              Edition             Reviews  \\\n",
       "0  Mass Market Paperback,– 1 Oct 1986  4.4 out of 5 stars   \n",
       "1     Paperback,– Import, 26 Apr 2018  5.0 out of 5 stars   \n",
       "2             Paperback,– 17 Mar 2011  5.0 out of 5 stars   \n",
       "3                    Paperback,– 2016  4.1 out of 5 stars   \n",
       "4             Paperback,– 26 Dec 2011  4.4 out of 5 stars   \n",
       "\n",
       "                Ratings                                           Synopsis  \\\n",
       "0  960 customer reviews  A collection of entire body of work of the She...   \n",
       "1     1 customer review  Enhance your software deployment workflow usin...   \n",
       "2    4 customer reviews  'Watch out, world. Here I come!'\\nFor Victoria...   \n",
       "3   11 customer reviews  If you want to learn how to program, working w...   \n",
       "4    9 customer reviews  Learn and practise the verbs, prepositions and...   \n",
       "\n",
       "                                        Genre  \\\n",
       "0                       Short Stories (Books)   \n",
       "1                 Operating Systems Textbooks   \n",
       "2                             Romance (Books)   \n",
       "3  Programming & Software Development (Books)   \n",
       "4                         Linguistics (Books)   \n",
       "\n",
       "                          BookCategory             cover_type  edition_year  \\\n",
       "0            Crime, Thriller & Mystery  Mass Market Paperback          1986   \n",
       "1  Computing, Internet & Digital Media              Paperback          2018   \n",
       "2                              Romance              Paperback          2011   \n",
       "3  Computing, Internet & Digital Media              Paperback          2016   \n",
       "4      Language, Linguistics & Writing              Paperback          2011   \n",
       "\n",
       "  edition_year_cat  \n",
       "0              Old  \n",
       "1              New  \n",
       "2              New  \n",
       "3              New  \n",
       "4              New  "
      ]
     },
     "execution_count": 48,
     "metadata": {},
     "output_type": "execute_result"
    }
   ],
   "source": [
    "df2.head()"
   ]
  },
  {
   "cell_type": "code",
   "execution_count": 49,
   "id": "c69f279e",
   "metadata": {},
   "outputs": [],
   "source": [
    "def reviews(x):\n",
    "    return float(x[:3])"
   ]
  },
  {
   "cell_type": "code",
   "execution_count": 50,
   "id": "2e3463a3",
   "metadata": {},
   "outputs": [],
   "source": [
    "df2['reviews'] = df2['Reviews'].map(reviews)"
   ]
  },
  {
   "cell_type": "code",
   "execution_count": 51,
   "id": "8866a288",
   "metadata": {},
   "outputs": [
    {
     "data": {
      "image/png": "[encoded data removed]",
      "text/plain": [
       "<Figure size 1080x576 with 1 Axes>"
      ]
     },
     "metadata": {
      "needs_background": "light"
     },
     "output_type": "display_data"
    }
   ],
   "source": [
    "sns.countplot(df2.reviews)\n",
    "plt.xticks(rotation=90)\n",
    "plt.show()"
   ]
  },
  {
   "cell_type": "code",
   "execution_count": 52,
   "id": "15626e1e",
   "metadata": {},
   "outputs": [],
   "source": [
    "def ratings(x):\n",
    "    lst = []\n",
    "    for i in x:\n",
    "        if i.isdigit():\n",
    "            lst.append(i)\n",
    "    return float(''.join(lst))"
   ]
  },
  {
   "cell_type": "code",
   "execution_count": 53,
   "id": "f3945610",
   "metadata": {},
   "outputs": [],
   "source": [
    "df2['ratings'] = df2['Ratings'].map(ratings)"
   ]
  },
  {
   "cell_type": "code",
   "execution_count": 54,
   "id": "359c24f4",
   "metadata": {},
   "outputs": [
    {
     "data": {
      "image/png": "[encoded data removed]",
      "text/plain": [
       "<Figure size 1080x576 with 1 Axes>"
      ]
     },
     "metadata": {
      "needs_background": "light"
     },
     "output_type": "display_data"
    }
   ],
   "source": [
    "sns.distplot(df2.ratings)\n",
    "plt.xticks(rotation=90)\n",
    "plt.show()"
   ]
  },
  {
   "cell_type": "code",
   "execution_count": 55,
   "id": "86089da9",
   "metadata": {},
   "outputs": [
    {
     "data": {
      "text/html": [
       "<div>\n",
       "<style scoped>\n",
       "    .dataframe tbody tr th:only-of-type {\n",
       "        vertical-align: middle;\n",
       "    }\n",
       "\n",
       "    .dataframe tbody tr th {\n",
       "        vertical-align: top;\n",
       "    }\n",
       "\n",
       "    .dataframe thead th {\n",
       "        text-align: right;\n",
       "    }\n",
       "</style>\n",
       "<table border=\"1\" class=\"dataframe\">\n",
       "  <thead>\n",
       "    <tr style=\"text-align: right;\">\n",
       "      <th></th>\n",
       "      <th>Title</th>\n",
       "      <th>Author</th>\n",
       "      <th>Edition</th>\n",
       "      <th>Reviews</th>\n",
       "      <th>Ratings</th>\n",
       "      <th>Synopsis</th>\n",
       "      <th>Genre</th>\n",
       "      <th>BookCategory</th>\n",
       "      <th>cover_type</th>\n",
       "      <th>edition_year</th>\n",
       "      <th>edition_year_cat</th>\n",
       "      <th>reviews</th>\n",
       "      <th>ratings</th>\n",
       "    </tr>\n",
       "  </thead>\n",
       "  <tbody>\n",
       "    <tr>\n",
       "      <th>0</th>\n",
       "      <td>The Complete Sherlock Holmes: 2 Boxes sets</td>\n",
       "      <td>Sir Arthur Conan Doyle</td>\n",
       "      <td>Mass Market Paperback,– 1 Oct 1986</td>\n",
       "      <td>4.4 out of 5 stars</td>\n",
       "      <td>960 customer reviews</td>\n",
       "      <td>A collection of entire body of work of the She...</td>\n",
       "      <td>Short Stories (Books)</td>\n",
       "      <td>Crime, Thriller &amp; Mystery</td>\n",
       "      <td>Mass Market Paperback</td>\n",
       "      <td>1986</td>\n",
       "      <td>Old</td>\n",
       "      <td>4.4</td>\n",
       "      <td>960.0</td>\n",
       "    </tr>\n",
       "    <tr>\n",
       "      <th>1</th>\n",
       "      <td>Learn Docker - Fundamentals of Docker 18.x: Ev...</td>\n",
       "      <td>Gabriel N. Schenker</td>\n",
       "      <td>Paperback,– Import, 26 Apr 2018</td>\n",
       "      <td>5.0 out of 5 stars</td>\n",
       "      <td>1 customer review</td>\n",
       "      <td>Enhance your software deployment workflow usin...</td>\n",
       "      <td>Operating Systems Textbooks</td>\n",
       "      <td>Computing, Internet &amp; Digital Media</td>\n",
       "      <td>Paperback</td>\n",
       "      <td>2018</td>\n",
       "      <td>New</td>\n",
       "      <td>5.0</td>\n",
       "      <td>1.0</td>\n",
       "    </tr>\n",
       "    <tr>\n",
       "      <th>2</th>\n",
       "      <td>Big Girl</td>\n",
       "      <td>Danielle Steel</td>\n",
       "      <td>Paperback,– 17 Mar 2011</td>\n",
       "      <td>5.0 out of 5 stars</td>\n",
       "      <td>4 customer reviews</td>\n",
       "      <td>'Watch out, world. Here I come!'\\nFor Victoria...</td>\n",
       "      <td>Romance (Books)</td>\n",
       "      <td>Romance</td>\n",
       "      <td>Paperback</td>\n",
       "      <td>2011</td>\n",
       "      <td>New</td>\n",
       "      <td>5.0</td>\n",
       "      <td>4.0</td>\n",
       "    </tr>\n",
       "    <tr>\n",
       "      <th>3</th>\n",
       "      <td>Think Python: How to Think Like a Computer Sci...</td>\n",
       "      <td>Allen B. Downey</td>\n",
       "      <td>Paperback,– 2016</td>\n",
       "      <td>4.1 out of 5 stars</td>\n",
       "      <td>11 customer reviews</td>\n",
       "      <td>If you want to learn how to program, working w...</td>\n",
       "      <td>Programming &amp; Software Development (Books)</td>\n",
       "      <td>Computing, Internet &amp; Digital Media</td>\n",
       "      <td>Paperback</td>\n",
       "      <td>2016</td>\n",
       "      <td>New</td>\n",
       "      <td>4.1</td>\n",
       "      <td>11.0</td>\n",
       "    </tr>\n",
       "    <tr>\n",
       "      <th>4</th>\n",
       "      <td>Oxford Word Skills: Advanced - Idioms &amp; Phrasa...</td>\n",
       "      <td>Redman Gairns</td>\n",
       "      <td>Paperback,– 26 Dec 2011</td>\n",
       "      <td>4.4 out of 5 stars</td>\n",
       "      <td>9 customer reviews</td>\n",
       "      <td>Learn and practise the verbs, prepositions and...</td>\n",
       "      <td>Linguistics (Books)</td>\n",
       "      <td>Language, Linguistics &amp; Writing</td>\n",
       "      <td>Paperback</td>\n",
       "      <td>2011</td>\n",
       "      <td>New</td>\n",
       "      <td>4.4</td>\n",
       "      <td>9.0</td>\n",
       "    </tr>\n",
       "  </tbody>\n",
       "</table>\n",
       "</div>"
      ],
      "text/plain": [
       "                                               Title                  Author  \\\n",
       "0         The Complete Sherlock Holmes: 2 Boxes sets  Sir Arthur Conan Doyle   \n",
       "1  Learn Docker - Fundamentals of Docker 18.x: Ev...     Gabriel N. Schenker   \n",
       "2                                           Big Girl          Danielle Steel   \n",
       "3  Think Python: How to Think Like a Computer Sci...         Allen B. Downey   \n",
       "4  Oxford Word Skills: Advanced - Idioms & Phrasa...           Redman Gairns   \n",
       "\n",
       "                              Edition             Reviews  \\\n",
       "0  Mass Market Paperback,– 1 Oct 1986  4.4 out of 5 stars   \n",
       "1     Paperback,– Import, 26 Apr 2018  5.0 out of 5 stars   \n",
       "2             Paperback,– 17 Mar 2011  5.0 out of 5 stars   \n",
       "3                    Paperback,– 2016  4.1 out of 5 stars   \n",
       "4             Paperback,– 26 Dec 2011  4.4 out of 5 stars   \n",
       "\n",
       "                Ratings                                           Synopsis  \\\n",
       "0  960 customer reviews  A collection of entire body of work of the She...   \n",
       "1     1 customer review  Enhance your software deployment workflow usin...   \n",
       "2    4 customer reviews  'Watch out, world. Here I come!'\\nFor Victoria...   \n",
       "3   11 customer reviews  If you want to learn how to program, working w...   \n",
       "4    9 customer reviews  Learn and practise the verbs, prepositions and...   \n",
       "\n",
       "                                        Genre  \\\n",
       "0                       Short Stories (Books)   \n",
       "1                 Operating Systems Textbooks   \n",
       "2                             Romance (Books)   \n",
       "3  Programming & Software Development (Books)   \n",
       "4                         Linguistics (Books)   \n",
       "\n",
       "                          BookCategory             cover_type  edition_year  \\\n",
       "0            Crime, Thriller & Mystery  Mass Market Paperback          1986   \n",
       "1  Computing, Internet & Digital Media              Paperback          2018   \n",
       "2                              Romance              Paperback          2011   \n",
       "3  Computing, Internet & Digital Media              Paperback          2016   \n",
       "4      Language, Linguistics & Writing              Paperback          2011   \n",
       "\n",
       "  edition_year_cat  reviews  ratings  \n",
       "0              Old      4.4    960.0  \n",
       "1              New      5.0      1.0  \n",
       "2              New      5.0      4.0  \n",
       "3              New      4.1     11.0  \n",
       "4              New      4.4      9.0  "
      ]
     },
     "execution_count": 55,
     "metadata": {},
     "output_type": "execute_result"
    }
   ],
   "source": [
    "df2.head()"
   ]
  },
  {
   "cell_type": "code",
   "execution_count": 56,
   "id": "5ecd542a",
   "metadata": {},
   "outputs": [
    {
     "data": {
      "text/plain": [
       "11"
      ]
     },
     "execution_count": 56,
     "metadata": {},
     "output_type": "execute_result"
    }
   ],
   "source": [
    "df2.BookCategory.nunique()"
   ]
  },
  {
   "cell_type": "code",
   "execution_count": 57,
   "id": "0ea79a3f",
   "metadata": {},
   "outputs": [
    {
     "data": {
      "text/plain": [
       "225"
      ]
     },
     "execution_count": 57,
     "metadata": {},
     "output_type": "execute_result"
    }
   ],
   "source": [
    "df2.Genre.nunique()"
   ]
  },
  {
   "cell_type": "code",
   "execution_count": 58,
   "id": "9576c51e",
   "metadata": {},
   "outputs": [
    {
     "data": {
      "text/plain": [
       "Index(['Action & Adventure (Books)', 'Romance (Books)',\n",
       "       'Biographies & Autobiographies (Books)', 'Contemporary Fiction (Books)',\n",
       "       'Crime, Thriller & Mystery (Books)', 'Mangas',\n",
       "       'Comics & Mangas (Books)', 'Design', 'Indian Writing (Books)',\n",
       "       'Music Books', 'Linguistics (Books)', 'Humour (Books)',\n",
       "       'True Accounts (Books)', 'Sports Training & Coaching (Books)',\n",
       "       'Arts History, Theory & Criticism (Books)', 'Computer Science Books',\n",
       "       'Government (Books)', 'Software & Business Applications (Books)',\n",
       "       'Dictionaries', 'Historical Fiction (Books)',\n",
       "       'Comics & Graphic Novels (Books)', 'Cinema & Broadcast (Books)',\n",
       "       'Language, Linguistics & Writing (Books)',\n",
       "       'Handicrafts, Decorative Arts & Crafts (Books)', 'Asian History',\n",
       "       'Games & Quizzes (Books)', 'Healthy Living & Wellness (Books)',\n",
       "       'Comics', 'Encyclopaedias & Reference Works (Books)',\n",
       "       'Writing Guides (Books)', 'Programming & Software Development (Books)',\n",
       "       'Theatre & Spectacles (Books)', 'Anthologies (Books)',\n",
       "       'History (Books)', 'Short Stories (Books)',\n",
       "       'Industries & Business Sectors (Books)',\n",
       "       'Language Learning & Teaching (Books)', 'Theater',\n",
       "       'Introductory & Beginning Programming', 'Political Ideologies (Books)',\n",
       "       'Society & Culture (Books)', 'Travel (Books)',\n",
       "       'Political Structure & Processes (Books)',\n",
       "       'Sporting Events & Organisations (Books)', 'Business Communication',\n",
       "       'Computing, Internet & Digital Media (Books)',\n",
       "       'Computer Databases (Books)',\n",
       "       'Networks & System Administration (Books)',\n",
       "       'Computer Hardware & Handheld Devices (Books)', 'Martial Arts (Books)'],\n",
       "      dtype='object')"
      ]
     },
     "execution_count": 58,
     "metadata": {},
     "output_type": "execute_result"
    }
   ],
   "source": [
    "df2.Genre.value_counts().head(50).index"
   ]
  },
  {
   "cell_type": "code",
   "execution_count": 59,
   "id": "f338d02d",
   "metadata": {},
   "outputs": [],
   "source": [
    "genres = df2.Genre.value_counts().head(25).index\n",
    "\n",
    "def genre_cat(x):\n",
    "    if x not in genres:\n",
    "        return 'Other'\n",
    "    else:\n",
    "        return x\n",
    "    \n",
    "df2['genre_cat'] = df2.Genre.map(genre_cat)"
   ]
  },
  {
   "cell_type": "code",
   "execution_count": 60,
   "id": "bb1a477b",
   "metadata": {},
   "outputs": [
    {
     "data": {
      "image/png": "[encoded data removed]",
      "text/plain": [
       "<Figure size 1080x576 with 1 Axes>"
      ]
     },
     "metadata": {
      "needs_background": "light"
     },
     "output_type": "display_data"
    }
   ],
   "source": [
    "sns.countplot(df2.genre_cat)\n",
    "plt.xticks(rotation=90)\n",
    "plt.show()"
   ]
  },
  {
   "cell_type": "code",
   "execution_count": 61,
   "id": "fcb54bb9",
   "metadata": {},
   "outputs": [
    {
     "data": {
      "text/plain": [
       "1224"
      ]
     },
     "execution_count": 61,
     "metadata": {},
     "output_type": "execute_result"
    }
   ],
   "source": [
    "df2.Author.nunique()"
   ]
  },
  {
   "cell_type": "code",
   "execution_count": 62,
   "id": "9ef69895",
   "metadata": {},
   "outputs": [
    {
     "data": {
      "text/plain": [
       "Agatha Christie                 18\n",
       "Ladybird                        14\n",
       "Albert Uderzo                   14\n",
       "DK                              13\n",
       "Nora Roberts                    13\n",
       "Wilbur Smith                     8\n",
       "James Patterson                  7\n",
       "Danielle Steel                   7\n",
       "René Goscinny, Albert Uderzo     7\n",
       "Lee Child                        7\n",
       "Name: Author, dtype: int64"
      ]
     },
     "execution_count": 62,
     "metadata": {},
     "output_type": "execute_result"
    }
   ],
   "source": [
    "df2.Author.value_counts().head(10)"
   ]
  },
  {
   "cell_type": "code",
   "execution_count": 63,
   "id": "ac51ea56",
   "metadata": {},
   "outputs": [
    {
     "data": {
      "text/html": [
       "<div>\n",
       "<style scoped>\n",
       "    .dataframe tbody tr th:only-of-type {\n",
       "        vertical-align: middle;\n",
       "    }\n",
       "\n",
       "    .dataframe tbody tr th {\n",
       "        vertical-align: top;\n",
       "    }\n",
       "\n",
       "    .dataframe thead th {\n",
       "        text-align: right;\n",
       "    }\n",
       "</style>\n",
       "<table border=\"1\" class=\"dataframe\">\n",
       "  <thead>\n",
       "    <tr style=\"text-align: right;\">\n",
       "      <th></th>\n",
       "      <th>Title</th>\n",
       "      <th>Author</th>\n",
       "      <th>Edition</th>\n",
       "      <th>Reviews</th>\n",
       "      <th>Ratings</th>\n",
       "      <th>Synopsis</th>\n",
       "      <th>Genre</th>\n",
       "      <th>BookCategory</th>\n",
       "      <th>cover_type</th>\n",
       "      <th>edition_year</th>\n",
       "      <th>edition_year_cat</th>\n",
       "      <th>reviews</th>\n",
       "      <th>ratings</th>\n",
       "      <th>genre_cat</th>\n",
       "    </tr>\n",
       "  </thead>\n",
       "  <tbody>\n",
       "    <tr>\n",
       "      <th>0</th>\n",
       "      <td>The Complete Sherlock Holmes: 2 Boxes sets</td>\n",
       "      <td>Sir Arthur Conan Doyle</td>\n",
       "      <td>Mass Market Paperback,– 1 Oct 1986</td>\n",
       "      <td>4.4 out of 5 stars</td>\n",
       "      <td>960 customer reviews</td>\n",
       "      <td>A collection of entire body of work of the She...</td>\n",
       "      <td>Short Stories (Books)</td>\n",
       "      <td>Crime, Thriller &amp; Mystery</td>\n",
       "      <td>Mass Market Paperback</td>\n",
       "      <td>1986</td>\n",
       "      <td>Old</td>\n",
       "      <td>4.4</td>\n",
       "      <td>960.0</td>\n",
       "      <td>Other</td>\n",
       "    </tr>\n",
       "    <tr>\n",
       "      <th>1</th>\n",
       "      <td>Learn Docker - Fundamentals of Docker 18.x: Ev...</td>\n",
       "      <td>Gabriel N. Schenker</td>\n",
       "      <td>Paperback,– Import, 26 Apr 2018</td>\n",
       "      <td>5.0 out of 5 stars</td>\n",
       "      <td>1 customer review</td>\n",
       "      <td>Enhance your software deployment workflow usin...</td>\n",
       "      <td>Operating Systems Textbooks</td>\n",
       "      <td>Computing, Internet &amp; Digital Media</td>\n",
       "      <td>Paperback</td>\n",
       "      <td>2018</td>\n",
       "      <td>New</td>\n",
       "      <td>5.0</td>\n",
       "      <td>1.0</td>\n",
       "      <td>Other</td>\n",
       "    </tr>\n",
       "  </tbody>\n",
       "</table>\n",
       "</div>"
      ],
      "text/plain": [
       "                                               Title                  Author  \\\n",
       "0         The Complete Sherlock Holmes: 2 Boxes sets  Sir Arthur Conan Doyle   \n",
       "1  Learn Docker - Fundamentals of Docker 18.x: Ev...     Gabriel N. Schenker   \n",
       "\n",
       "                              Edition             Reviews  \\\n",
       "0  Mass Market Paperback,– 1 Oct 1986  4.4 out of 5 stars   \n",
       "1     Paperback,– Import, 26 Apr 2018  5.0 out of 5 stars   \n",
       "\n",
       "                Ratings                                           Synopsis  \\\n",
       "0  960 customer reviews  A collection of entire body of work of the She...   \n",
       "1     1 customer review  Enhance your software deployment workflow usin...   \n",
       "\n",
       "                         Genre                         BookCategory  \\\n",
       "0        Short Stories (Books)            Crime, Thriller & Mystery   \n",
       "1  Operating Systems Textbooks  Computing, Internet & Digital Media   \n",
       "\n",
       "              cover_type  edition_year edition_year_cat  reviews  ratings  \\\n",
       "0  Mass Market Paperback          1986              Old      4.4    960.0   \n",
       "1              Paperback          2018              New      5.0      1.0   \n",
       "\n",
       "  genre_cat  \n",
       "0     Other  \n",
       "1     Other  "
      ]
     },
     "execution_count": 63,
     "metadata": {},
     "output_type": "execute_result"
    }
   ],
   "source": [
    "df2.head(2)"
   ]
  },
  {
   "cell_type": "code",
   "execution_count": 64,
   "id": "d4a1d2cc",
   "metadata": {},
   "outputs": [],
   "source": [
    "df2['publish_recency'] = 2020 - df2.edition_year"
   ]
  },
  {
   "cell_type": "code",
   "execution_count": 65,
   "id": "c68da3de",
   "metadata": {},
   "outputs": [
    {
     "data": {
      "text/html": [
       "<div>\n",
       "<style scoped>\n",
       "    .dataframe tbody tr th:only-of-type {\n",
       "        vertical-align: middle;\n",
       "    }\n",
       "\n",
       "    .dataframe tbody tr th {\n",
       "        vertical-align: top;\n",
       "    }\n",
       "\n",
       "    .dataframe thead th {\n",
       "        text-align: right;\n",
       "    }\n",
       "</style>\n",
       "<table border=\"1\" class=\"dataframe\">\n",
       "  <thead>\n",
       "    <tr style=\"text-align: right;\">\n",
       "      <th></th>\n",
       "      <th>BookCategory</th>\n",
       "      <th>cover_type</th>\n",
       "      <th>edition_year_cat</th>\n",
       "      <th>reviews</th>\n",
       "      <th>ratings</th>\n",
       "      <th>genre_cat</th>\n",
       "      <th>publish_recency</th>\n",
       "    </tr>\n",
       "  </thead>\n",
       "  <tbody>\n",
       "    <tr>\n",
       "      <th>0</th>\n",
       "      <td>Crime, Thriller &amp; Mystery</td>\n",
       "      <td>Mass Market Paperback</td>\n",
       "      <td>Old</td>\n",
       "      <td>4.4</td>\n",
       "      <td>960.0</td>\n",
       "      <td>Other</td>\n",
       "      <td>34</td>\n",
       "    </tr>\n",
       "    <tr>\n",
       "      <th>1</th>\n",
       "      <td>Computing, Internet &amp; Digital Media</td>\n",
       "      <td>Paperback</td>\n",
       "      <td>New</td>\n",
       "      <td>5.0</td>\n",
       "      <td>1.0</td>\n",
       "      <td>Other</td>\n",
       "      <td>2</td>\n",
       "    </tr>\n",
       "    <tr>\n",
       "      <th>2</th>\n",
       "      <td>Romance</td>\n",
       "      <td>Paperback</td>\n",
       "      <td>New</td>\n",
       "      <td>5.0</td>\n",
       "      <td>4.0</td>\n",
       "      <td>Romance (Books)</td>\n",
       "      <td>9</td>\n",
       "    </tr>\n",
       "    <tr>\n",
       "      <th>3</th>\n",
       "      <td>Computing, Internet &amp; Digital Media</td>\n",
       "      <td>Paperback</td>\n",
       "      <td>New</td>\n",
       "      <td>4.1</td>\n",
       "      <td>11.0</td>\n",
       "      <td>Other</td>\n",
       "      <td>4</td>\n",
       "    </tr>\n",
       "    <tr>\n",
       "      <th>4</th>\n",
       "      <td>Language, Linguistics &amp; Writing</td>\n",
       "      <td>Paperback</td>\n",
       "      <td>New</td>\n",
       "      <td>4.4</td>\n",
       "      <td>9.0</td>\n",
       "      <td>Linguistics (Books)</td>\n",
       "      <td>9</td>\n",
       "    </tr>\n",
       "  </tbody>\n",
       "</table>\n",
       "</div>"
      ],
      "text/plain": [
       "                          BookCategory             cover_type  \\\n",
       "0            Crime, Thriller & Mystery  Mass Market Paperback   \n",
       "1  Computing, Internet & Digital Media              Paperback   \n",
       "2                              Romance              Paperback   \n",
       "3  Computing, Internet & Digital Media              Paperback   \n",
       "4      Language, Linguistics & Writing              Paperback   \n",
       "\n",
       "  edition_year_cat  reviews  ratings            genre_cat  publish_recency  \n",
       "0              Old      4.4    960.0                Other               34  \n",
       "1              New      5.0      1.0                Other                2  \n",
       "2              New      5.0      4.0      Romance (Books)                9  \n",
       "3              New      4.1     11.0                Other                4  \n",
       "4              New      4.4      9.0  Linguistics (Books)                9  "
      ]
     },
     "execution_count": 65,
     "metadata": {},
     "output_type": "execute_result"
    }
   ],
   "source": [
    "df3 = df2.drop(['Title', 'Author', 'Edition', 'Reviews', 'Ratings', 'Synopsis', 'Genre', 'edition_year'], axis=1)\n",
    "df3.head()"
   ]
  },
  {
   "cell_type": "code",
   "execution_count": 66,
   "id": "19eea7a7",
   "metadata": {},
   "outputs": [],
   "source": [
    "cat_cols = df3.select_dtypes(exclude=np.number)\n",
    "num_cols = df3.select_dtypes(include=np.number)"
   ]
  },
  {
   "cell_type": "code",
   "execution_count": 67,
   "id": "4733f227",
   "metadata": {},
   "outputs": [
    {
     "data": {
      "text/plain": [
       "(1560, 3)"
      ]
     },
     "execution_count": 67,
     "metadata": {},
     "output_type": "execute_result"
    }
   ],
   "source": [
    "pw = PowerTransformer()\n",
    "df3_trans = pd.DataFrame(pw.fit_transform(num_cols), columns=num_cols.columns)\n",
    "\n",
    "sc = StandardScaler()\n",
    "df3_scaled = pd.DataFrame(sc.fit_transform(df3_trans), columns=df3_trans.columns).reset_index(drop=True)\n",
    "df3_scaled.shape"
   ]
  },
  {
   "cell_type": "code",
   "execution_count": 68,
   "id": "26f3c6e9",
   "metadata": {},
   "outputs": [
    {
     "data": {
      "image/png": "[encoded data removed]",
      "text/plain": [
       "<Figure size 1080x576 with 3 Axes>"
      ]
     },
     "metadata": {
      "needs_background": "light"
     },
     "output_type": "display_data"
    }
   ],
   "source": [
    "i = 1\n",
    "for x in df3_scaled:\n",
    "    plt.subplot(2, 2, i)\n",
    "    sns.histplot(df3_scaled[x], kde=True, fill=False)\n",
    "    i += 1\n",
    "plt.tight_layout()"
   ]
  },
  {
   "cell_type": "code",
   "execution_count": 69,
   "id": "5dd1413b",
   "metadata": {},
   "outputs": [
    {
     "data": {
      "text/plain": [
       "(1560, 41)"
      ]
     },
     "execution_count": 69,
     "metadata": {},
     "output_type": "execute_result"
    }
   ],
   "source": [
    "dummy_df = pd.get_dummies(data=cat_cols, drop_first=True).reset_index(drop=True)\n",
    "dummy_df.shape"
   ]
  },
  {
   "cell_type": "code",
   "execution_count": 70,
   "id": "4e0f8222",
   "metadata": {},
   "outputs": [
    {
     "name": "stdout",
     "output_type": "stream",
     "text": [
      "Requirement already satisfied: feature_engine in c:\\users\\asus\\anaconda3\\lib\\site-packages (1.2.0)\n",
      "Requirement already satisfied: pandas>=1.0.3 in c:\\users\\asus\\anaconda3\\lib\\site-packages (from feature_engine) (1.3.4)\n",
      "Requirement already satisfied: scipy>=1.4.1 in c:\\users\\asus\\anaconda3\\lib\\site-packages (from feature_engine) (1.7.1)\n",
      "Requirement already satisfied: numpy>=1.18.2 in c:\\users\\asus\\anaconda3\\lib\\site-packages (from feature_engine) (1.20.3)\n",
      "Requirement already satisfied: statsmodels>=0.11.1 in c:\\users\\asus\\anaconda3\\lib\\site-packages (from feature_engine) (0.12.2)\n",
      "Requirement already satisfied: scikit-learn>=0.22.2 in c:\\users\\asus\\anaconda3\\lib\\site-packages (from feature_engine) (1.0.2)\n",
      "Requirement already satisfied: python-dateutil>=2.7.3 in c:\\users\\asus\\anaconda3\\lib\\site-packages (from pandas>=1.0.3->feature_engine) (2.8.2)\n",
      "Requirement already satisfied: pytz>=2017.3 in c:\\users\\asus\\anaconda3\\lib\\site-packages (from pandas>=1.0.3->feature_engine) (2021.3)\n",
      "Requirement already satisfied: six>=1.5 in c:\\users\\asus\\anaconda3\\lib\\site-packages (from python-dateutil>=2.7.3->pandas>=1.0.3->feature_engine) (1.16.0)\n",
      "Requirement already satisfied: joblib>=0.11 in c:\\users\\asus\\anaconda3\\lib\\site-packages (from scikit-learn>=0.22.2->feature_engine) (1.1.0)\n",
      "Requirement already satisfied: threadpoolctl>=2.0.0 in c:\\users\\asus\\anaconda3\\lib\\site-packages (from scikit-learn>=0.22.2->feature_engine) (2.2.0)\n",
      "Requirement already satisfied: patsy>=0.5 in c:\\users\\asus\\anaconda3\\lib\\site-packages (from statsmodels>=0.11.1->feature_engine) (0.5.2)\n"
     ]
    }
   ],
   "source": [
    "!pip install feature_engine"
   ]
  },
  {
   "cell_type": "code",
   "execution_count": 71,
   "id": "3be944f0",
   "metadata": {},
   "outputs": [],
   "source": [
    "from feature_engine.encoding import CountFrequencyEncoder\n",
    "\n",
    "# fe = CountFrequencyEncoder(encoding_method='frequency')\n",
    "\n",
    "# author = fe.fit_transform(pd.DataFrame(books_new.Author))"
   ]
  },
  {
   "cell_type": "code",
   "execution_count": 72,
   "id": "7b817cd6",
   "metadata": {},
   "outputs": [],
   "source": [
    "# books_new.insert(1, 'author_freq', author)"
   ]
  },
  {
   "cell_type": "code",
   "execution_count": 86,
   "id": "8f899e56",
   "metadata": {},
   "outputs": [
    {
     "data": {
      "text/html": [
       "<div>\n",
       "<style scoped>\n",
       "    .dataframe tbody tr th:only-of-type {\n",
       "        vertical-align: middle;\n",
       "    }\n",
       "\n",
       "    .dataframe tbody tr th {\n",
       "        vertical-align: top;\n",
       "    }\n",
       "\n",
       "    .dataframe thead th {\n",
       "        text-align: right;\n",
       "    }\n",
       "</style>\n",
       "<table border=\"1\" class=\"dataframe\">\n",
       "  <thead>\n",
       "    <tr style=\"text-align: right;\">\n",
       "      <th></th>\n",
       "      <th>reviews</th>\n",
       "      <th>ratings</th>\n",
       "      <th>publish_recency</th>\n",
       "      <th>BookCategory_Arts, Film &amp; Photography</th>\n",
       "      <th>BookCategory_Biographies, Diaries &amp; True Accounts</th>\n",
       "      <th>BookCategory_Comics &amp; Mangas</th>\n",
       "      <th>BookCategory_Computing, Internet &amp; Digital Media</th>\n",
       "      <th>BookCategory_Crime, Thriller &amp; Mystery</th>\n",
       "      <th>BookCategory_Humour</th>\n",
       "      <th>BookCategory_Language, Linguistics &amp; Writing</th>\n",
       "      <th>...</th>\n",
       "      <th>genre_cat_Indian Writing (Books)</th>\n",
       "      <th>genre_cat_Language, Linguistics &amp; Writing (Books)</th>\n",
       "      <th>genre_cat_Linguistics (Books)</th>\n",
       "      <th>genre_cat_Mangas</th>\n",
       "      <th>genre_cat_Music Books</th>\n",
       "      <th>genre_cat_Other</th>\n",
       "      <th>genre_cat_Romance (Books)</th>\n",
       "      <th>genre_cat_Software &amp; Business Applications (Books)</th>\n",
       "      <th>genre_cat_Sports Training &amp; Coaching (Books)</th>\n",
       "      <th>genre_cat_True Accounts (Books)</th>\n",
       "    </tr>\n",
       "  </thead>\n",
       "  <tbody>\n",
       "    <tr>\n",
       "      <th>0</th>\n",
       "      <td>-0.031047</td>\n",
       "      <td>2.195774</td>\n",
       "      <td>2.046418</td>\n",
       "      <td>0</td>\n",
       "      <td>0</td>\n",
       "      <td>0</td>\n",
       "      <td>0</td>\n",
       "      <td>1</td>\n",
       "      <td>0</td>\n",
       "      <td>0</td>\n",
       "      <td>...</td>\n",
       "      <td>0</td>\n",
       "      <td>0</td>\n",
       "      <td>0</td>\n",
       "      <td>0</td>\n",
       "      <td>0</td>\n",
       "      <td>1</td>\n",
       "      <td>0</td>\n",
       "      <td>0</td>\n",
       "      <td>0</td>\n",
       "      <td>0</td>\n",
       "    </tr>\n",
       "    <tr>\n",
       "      <th>1</th>\n",
       "      <td>1.315675</td>\n",
       "      <td>-1.390723</td>\n",
       "      <td>-1.195503</td>\n",
       "      <td>0</td>\n",
       "      <td>0</td>\n",
       "      <td>0</td>\n",
       "      <td>1</td>\n",
       "      <td>0</td>\n",
       "      <td>0</td>\n",
       "      <td>0</td>\n",
       "      <td>...</td>\n",
       "      <td>0</td>\n",
       "      <td>0</td>\n",
       "      <td>0</td>\n",
       "      <td>0</td>\n",
       "      <td>0</td>\n",
       "      <td>1</td>\n",
       "      <td>0</td>\n",
       "      <td>0</td>\n",
       "      <td>0</td>\n",
       "      <td>0</td>\n",
       "    </tr>\n",
       "    <tr>\n",
       "      <th>2</th>\n",
       "      <td>1.315675</td>\n",
       "      <td>-0.327721</td>\n",
       "      <td>0.572636</td>\n",
       "      <td>0</td>\n",
       "      <td>0</td>\n",
       "      <td>0</td>\n",
       "      <td>0</td>\n",
       "      <td>0</td>\n",
       "      <td>0</td>\n",
       "      <td>0</td>\n",
       "      <td>...</td>\n",
       "      <td>0</td>\n",
       "      <td>0</td>\n",
       "      <td>0</td>\n",
       "      <td>0</td>\n",
       "      <td>0</td>\n",
       "      <td>0</td>\n",
       "      <td>1</td>\n",
       "      <td>0</td>\n",
       "      <td>0</td>\n",
       "      <td>0</td>\n",
       "    </tr>\n",
       "    <tr>\n",
       "      <th>3</th>\n",
       "      <td>-0.552159</td>\n",
       "      <td>0.432690</td>\n",
       "      <td>-0.398114</td>\n",
       "      <td>0</td>\n",
       "      <td>0</td>\n",
       "      <td>0</td>\n",
       "      <td>1</td>\n",
       "      <td>0</td>\n",
       "      <td>0</td>\n",
       "      <td>0</td>\n",
       "      <td>...</td>\n",
       "      <td>0</td>\n",
       "      <td>0</td>\n",
       "      <td>0</td>\n",
       "      <td>0</td>\n",
       "      <td>0</td>\n",
       "      <td>1</td>\n",
       "      <td>0</td>\n",
       "      <td>0</td>\n",
       "      <td>0</td>\n",
       "      <td>0</td>\n",
       "    </tr>\n",
       "    <tr>\n",
       "      <th>4</th>\n",
       "      <td>-0.031047</td>\n",
       "      <td>0.291536</td>\n",
       "      <td>0.572636</td>\n",
       "      <td>0</td>\n",
       "      <td>0</td>\n",
       "      <td>0</td>\n",
       "      <td>0</td>\n",
       "      <td>0</td>\n",
       "      <td>0</td>\n",
       "      <td>1</td>\n",
       "      <td>...</td>\n",
       "      <td>0</td>\n",
       "      <td>0</td>\n",
       "      <td>1</td>\n",
       "      <td>0</td>\n",
       "      <td>0</td>\n",
       "      <td>0</td>\n",
       "      <td>0</td>\n",
       "      <td>0</td>\n",
       "      <td>0</td>\n",
       "      <td>0</td>\n",
       "    </tr>\n",
       "  </tbody>\n",
       "</table>\n",
       "<p>5 rows × 44 columns</p>\n",
       "</div>"
      ],
      "text/plain": [
       "    reviews   ratings  publish_recency  BookCategory_Arts, Film & Photography  \\\n",
       "0 -0.031047  2.195774         2.046418                                      0   \n",
       "1  1.315675 -1.390723        -1.195503                                      0   \n",
       "2  1.315675 -0.327721         0.572636                                      0   \n",
       "3 -0.552159  0.432690        -0.398114                                      0   \n",
       "4 -0.031047  0.291536         0.572636                                      0   \n",
       "\n",
       "   BookCategory_Biographies, Diaries & True Accounts  \\\n",
       "0                                                  0   \n",
       "1                                                  0   \n",
       "2                                                  0   \n",
       "3                                                  0   \n",
       "4                                                  0   \n",
       "\n",
       "   BookCategory_Comics & Mangas  \\\n",
       "0                             0   \n",
       "1                             0   \n",
       "2                             0   \n",
       "3                             0   \n",
       "4                             0   \n",
       "\n",
       "   BookCategory_Computing, Internet & Digital Media  \\\n",
       "0                                                 0   \n",
       "1                                                 1   \n",
       "2                                                 0   \n",
       "3                                                 1   \n",
       "4                                                 0   \n",
       "\n",
       "   BookCategory_Crime, Thriller & Mystery  BookCategory_Humour  \\\n",
       "0                                       1                    0   \n",
       "1                                       0                    0   \n",
       "2                                       0                    0   \n",
       "3                                       0                    0   \n",
       "4                                       0                    0   \n",
       "\n",
       "   BookCategory_Language, Linguistics & Writing  ...  \\\n",
       "0                                             0  ...   \n",
       "1                                             0  ...   \n",
       "2                                             0  ...   \n",
       "3                                             0  ...   \n",
       "4                                             1  ...   \n",
       "\n",
       "   genre_cat_Indian Writing (Books)  \\\n",
       "0                                 0   \n",
       "1                                 0   \n",
       "2                                 0   \n",
       "3                                 0   \n",
       "4                                 0   \n",
       "\n",
       "   genre_cat_Language, Linguistics & Writing (Books)  \\\n",
       "0                                                  0   \n",
       "1                                                  0   \n",
       "2                                                  0   \n",
       "3                                                  0   \n",
       "4                                                  0   \n",
       "\n",
       "   genre_cat_Linguistics (Books)  genre_cat_Mangas  genre_cat_Music Books  \\\n",
       "0                              0                 0                      0   \n",
       "1                              0                 0                      0   \n",
       "2                              0                 0                      0   \n",
       "3                              0                 0                      0   \n",
       "4                              1                 0                      0   \n",
       "\n",
       "   genre_cat_Other  genre_cat_Romance (Books)  \\\n",
       "0                1                          0   \n",
       "1                1                          0   \n",
       "2                0                          1   \n",
       "3                1                          0   \n",
       "4                0                          0   \n",
       "\n",
       "   genre_cat_Software & Business Applications (Books)  \\\n",
       "0                                                  0    \n",
       "1                                                  0    \n",
       "2                                                  0    \n",
       "3                                                  0    \n",
       "4                                                  0    \n",
       "\n",
       "   genre_cat_Sports Training & Coaching (Books)  \\\n",
       "0                                             0   \n",
       "1                                             0   \n",
       "2                                             0   \n",
       "3                                             0   \n",
       "4                                             0   \n",
       "\n",
       "   genre_cat_True Accounts (Books)  \n",
       "0                                0  \n",
       "1                                0  \n",
       "2                                0  \n",
       "3                                0  \n",
       "4                                0  \n",
       "\n",
       "[5 rows x 44 columns]"
      ]
     },
     "execution_count": 86,
     "metadata": {},
     "output_type": "execute_result"
    }
   ],
   "source": [
    "df_final = pd.concat([df3_scaled, dummy_df], axis=1)\n",
    "df_final.head()"
   ]
  },
  {
   "cell_type": "code",
   "execution_count": 87,
   "id": "ec74c000",
   "metadata": {},
   "outputs": [],
   "source": [
    "df_final.to_csv(\"df_final.csv\", index=False)"
   ]
  },
  {
   "cell_type": "code",
   "execution_count": 75,
   "id": "d0147b71",
   "metadata": {},
   "outputs": [],
   "source": [
    "# X = df_final.drop(\"Price\", axis=1)\n",
    "# # y = df_final['Price']"
   ]
  },
  {
   "cell_type": "code",
   "execution_count": 76,
   "id": "9d639dd1",
   "metadata": {},
   "outputs": [],
   "source": [
    "from sklearn.linear_model import LinearRegression\n",
    "from sklearn.model_selection import train_test_split\n",
    "from sklearn.metrics import r2_score, mean_squared_error"
   ]
  },
  {
   "cell_type": "code",
   "execution_count": 77,
   "id": "82320254",
   "metadata": {},
   "outputs": [],
   "source": [
    "# xtrain, xtest, ytrain, ytest = train_test_split(X, y, test_size=0.2, random_state=42)"
   ]
  },
  {
   "cell_type": "code",
   "execution_count": 78,
   "id": "1e614815",
   "metadata": {},
   "outputs": [
    {
     "ename": "NameError",
     "evalue": "name 'xtrain' is not defined",
     "output_type": "error",
     "traceback": [
      "\u001b[1;31m---------------------------------------------------------------------------\u001b[0m",
      "\u001b[1;31mNameError\u001b[0m                                 Traceback (most recent call last)",
      "\u001b[1;32m~\\AppData\\Local\\Temp/ipykernel_24076/1898091372.py\u001b[0m in \u001b[0;36m<module>\u001b[1;34m\u001b[0m\n\u001b[0;32m      1\u001b[0m \u001b[0mlr\u001b[0m \u001b[1;33m=\u001b[0m \u001b[0mLinearRegression\u001b[0m\u001b[1;33m(\u001b[0m\u001b[1;33m)\u001b[0m\u001b[1;33m\u001b[0m\u001b[1;33m\u001b[0m\u001b[0m\n\u001b[0;32m      2\u001b[0m \u001b[1;33m\u001b[0m\u001b[0m\n\u001b[1;32m----> 3\u001b[1;33m \u001b[0mlr\u001b[0m\u001b[1;33m.\u001b[0m\u001b[0mfit\u001b[0m\u001b[1;33m(\u001b[0m\u001b[0mxtrain\u001b[0m\u001b[1;33m,\u001b[0m \u001b[0mytrain\u001b[0m\u001b[1;33m)\u001b[0m\u001b[1;33m\u001b[0m\u001b[1;33m\u001b[0m\u001b[0m\n\u001b[0m\u001b[0;32m      4\u001b[0m \u001b[1;33m\u001b[0m\u001b[0m\n\u001b[0;32m      5\u001b[0m \u001b[0mypred_train\u001b[0m \u001b[1;33m=\u001b[0m \u001b[0mlr\u001b[0m\u001b[1;33m.\u001b[0m\u001b[0mpredict\u001b[0m\u001b[1;33m(\u001b[0m\u001b[0mxtrain\u001b[0m\u001b[1;33m)\u001b[0m\u001b[1;33m\u001b[0m\u001b[1;33m\u001b[0m\u001b[0m\n",
      "\u001b[1;31mNameError\u001b[0m: name 'xtrain' is not defined"
     ]
    }
   ],
   "source": [
    "lr = LinearRegression()\n",
    "\n",
    "lr.fit(xtrain, ytrain)\n",
    "\n",
    "ypred_train = lr.predict(xtrain)\n",
    "ypred_test = lr.predict(xtest)\n",
    "\n",
    "print(np.sqrt(mean_squared_error(ytrain,ypred_train)), np.sqrt(mean_squared_error(ytest,ypred_test)))\n",
    "print(r2_score(ytrain, ypred_train), r2_score(ytest, ypred_test))"
   ]
  },
  {
   "cell_type": "code",
   "execution_count": null,
   "id": "43b2adcc",
   "metadata": {},
   "outputs": [],
   "source": [
    "1 - np.sqrt(np.square(np.log10(ypred_test +1) - np.log10(ytest +1)).mean())"
   ]
  },
  {
   "cell_type": "code",
   "execution_count": null,
   "id": "6f00b012",
   "metadata": {},
   "outputs": [],
   "source": [
    "from sklearn.tree import DecisionTreeRegressor\n",
    "\n",
    "dtree = DecisionTreeRegressor(max_depth=5, random_state=42)\n",
    "\n",
    "dtree.fit(xtrain, ytrain)\n",
    "\n",
    "pred_train_tree = dtree.predict(xtrain)\n",
    "pred_test_tree= dtree.predict(xtest)\n",
    "\n",
    "print(np.sqrt(mean_squared_error(ytrain,pred_train_tree)), np.sqrt(mean_squared_error(ytest,pred_test_tree)))\n",
    "print(r2_score(ytrain, pred_train_tree), r2_score(ytest, pred_test_tree))"
   ]
  },
  {
   "cell_type": "code",
   "execution_count": null,
   "id": "7cb003fe",
   "metadata": {},
   "outputs": [],
   "source": [
    "1 - np.sqrt(np.square(np.log10(pred_test_tree +1) - np.log10(ytest +1)).mean())"
   ]
  },
  {
   "cell_type": "code",
   "execution_count": null,
   "id": "5d976fa8",
   "metadata": {},
   "outputs": [],
   "source": [
    "from sklearn.ensemble import RandomForestRegressor\n",
    "\n",
    "model_rf = RandomForestRegressor(n_estimators=100, max_depth=10, oob_score=True, random_state=42)\n",
    "model_rf.fit(xtrain, ytrain) \n",
    "\n",
    "pred_train_rf = model_rf.predict(xtrain)\n",
    "pred_test_rf = model_rf.predict(xtest)\n",
    "\n",
    "print(np.sqrt(mean_squared_error(ytrain,pred_train_rf)), np.sqrt(mean_squared_error(ytest,pred_test_rf)))\n",
    "print(r2_score(ytrain, pred_train_rf), r2_score(ytest, pred_test_rf))"
   ]
  },
  {
   "cell_type": "code",
   "execution_count": null,
   "id": "0de5788b",
   "metadata": {},
   "outputs": [],
   "source": [
    "1 - np.sqrt(np.square(np.log10(pred_test_rf +1) - np.log10(ytest +1)).mean())"
   ]
  },
  {
   "cell_type": "code",
   "execution_count": null,
   "id": "321d9d25",
   "metadata": {},
   "outputs": [],
   "source": [
    "pd.DataFrame({'Feature':xtrain.columns, 'Importance':model_rf.feature_importances_}).sort_values(by='Importance', ascending=False)"
   ]
  },
  {
   "cell_type": "code",
   "execution_count": null,
   "id": "dec1cc67",
   "metadata": {},
   "outputs": [],
   "source": [
    "from xgboost import XGBRegressor"
   ]
  },
  {
   "cell_type": "code",
   "execution_count": null,
   "id": "76a32b9c",
   "metadata": {},
   "outputs": [],
   "source": [
    "model_xgb = XGBRegressor(random_state=42)\n",
    "model_xgb.fit(xtrain, ytrain) \n",
    "\n",
    "pred_train_xgb = model_xgb.predict(xtrain)\n",
    "pred_test_xgb = model_xgb.predict(xtest)\n",
    "\n",
    "print(np.sqrt(mean_squared_error(ytrain,pred_train_xgb)), np.sqrt(mean_squared_error(ytest,pred_test_xgb)))\n",
    "print(r2_score(ytrain, pred_train_xgb), r2_score(ytest, pred_test_xgb))"
   ]
  },
  {
   "cell_type": "code",
   "execution_count": null,
   "id": "192a86c4",
   "metadata": {},
   "outputs": [],
   "source": [
    "1 - np.sqrt(np.square(np.log10(pred_test_xgb +1) - np.log10(ytest +1)).mean())"
   ]
  },
  {
   "cell_type": "markdown",
   "id": "b16e2edd",
   "metadata": {},
   "source": [
    "### New Iteration"
   ]
  },
  {
   "cell_type": "code",
   "execution_count": null,
   "id": "050f2cd7",
   "metadata": {},
   "outputs": [],
   "source": [
    "df3.head()"
   ]
  },
  {
   "cell_type": "code",
   "execution_count": null,
   "id": "c0ccc1fd",
   "metadata": {},
   "outputs": [],
   "source": [
    "df2.ratings.describe()"
   ]
  },
  {
   "cell_type": "code",
   "execution_count": null,
   "id": "6754ee4c",
   "metadata": {},
   "outputs": [],
   "source": [
    "new1 = df3.drop(['genre_cat'], axis=1)"
   ]
  },
  {
   "cell_type": "code",
   "execution_count": null,
   "id": "0bae801e",
   "metadata": {},
   "outputs": [],
   "source": [
    "new1['review_cat'] = pd.cut(df3.reviews, bins=[0.9,2,3,4,5.1], labels=['poor', 'average', 'good', 'excellent'])"
   ]
  },
  {
   "cell_type": "code",
   "execution_count": null,
   "id": "bfb5a63f",
   "metadata": {},
   "outputs": [],
   "source": [
    "new1.head()"
   ]
  },
  {
   "cell_type": "code",
   "execution_count": null,
   "id": "9514130a",
   "metadata": {},
   "outputs": [],
   "source": [
    "def rev(x):\n",
    "    if x == 'poor':\n",
    "        return 0\n",
    "    elif x == 'average':\n",
    "        return 1\n",
    "    elif x == 'good':\n",
    "        return 2\n",
    "    else:\n",
    "        return 3\n",
    "    \n",
    "new1['review_cat'] = new1['review_cat'].map(rev)\n",
    "new1.head()"
   ]
  },
  {
   "cell_type": "code",
   "execution_count": null,
   "id": "44c94345",
   "metadata": {},
   "outputs": [],
   "source": [
    "new1.BookCategory.value_counts()"
   ]
  },
  {
   "cell_type": "code",
   "execution_count": null,
   "id": "65fed938",
   "metadata": {},
   "outputs": [],
   "source": [
    "from feature_engine.encoding import CountFrequencyEncoder\n",
    "\n",
    "fe = CountFrequencyEncoder(encoding_method='frequency')\n",
    "\n",
    "new1['book_freq'] = pd.DataFrame(fe.fit_transform(pd.DataFrame(new1.BookCategory)))"
   ]
  },
  {
   "cell_type": "code",
   "execution_count": null,
   "id": "3e064e6d",
   "metadata": {},
   "outputs": [],
   "source": [
    "new2 = new1.drop(['edition_year_cat', 'BookCategory', 'review_cat'], axis=1)\n",
    "new_cat = new2.select_dtypes(exclude=np.number)\n",
    "new_num = new2.select_dtypes(include=np.number)"
   ]
  },
  {
   "cell_type": "code",
   "execution_count": null,
   "id": "f42d3be1",
   "metadata": {},
   "outputs": [],
   "source": [
    "new2.head()"
   ]
  },
  {
   "cell_type": "code",
   "execution_count": null,
   "id": "793a2d15",
   "metadata": {},
   "outputs": [],
   "source": [
    "pw = PowerTransformer()\n",
    "new_trans = pd.DataFrame(pw.fit_transform(new_num), columns=new_num.columns)\n",
    "\n",
    "sc = StandardScaler()\n",
    "new_scaled = pd.DataFrame(sc.fit_transform(new_trans), columns=new_trans.columns).reset_index(drop=True)\n",
    "new_scaled.shape"
   ]
  },
  {
   "cell_type": "code",
   "execution_count": null,
   "id": "6b7d1f69",
   "metadata": {},
   "outputs": [],
   "source": [
    "new_dummy = pd.get_dummies(new_cat, drop_first=True).reset_index(drop=True)\n",
    "new_dummy.shape"
   ]
  },
  {
   "cell_type": "code",
   "execution_count": null,
   "id": "96083d2a",
   "metadata": {},
   "outputs": [],
   "source": [
    "new_final = pd.concat([new_scaled, new_dummy], axis=1)\n",
    "new_final.head()"
   ]
  },
  {
   "cell_type": "code",
   "execution_count": null,
   "id": "f253d2f9",
   "metadata": {},
   "outputs": [],
   "source": [
    "# new_final['review_cat'] = new_final['review_cat'].astype(int)"
   ]
  },
  {
   "cell_type": "code",
   "execution_count": null,
   "id": "0110d8c8",
   "metadata": {},
   "outputs": [],
   "source": [
    "X = new_final.drop(\"Price\", axis=1)\n",
    "y = new_final['Price']"
   ]
  },
  {
   "cell_type": "code",
   "execution_count": null,
   "id": "d7c9ea8c",
   "metadata": {},
   "outputs": [],
   "source": [
    "xtrain, xtest, ytrain, ytest = train_test_split(X, y, test_size=0.2, random_state=42)"
   ]
  },
  {
   "cell_type": "code",
   "execution_count": null,
   "id": "3ed85cfe",
   "metadata": {},
   "outputs": [],
   "source": [
    "lr = LinearRegression()\n",
    "\n",
    "lr.fit(xtrain, ytrain)\n",
    "\n",
    "ypred_train = lr.predict(xtrain)\n",
    "ypred_test = lr.predict(xtest)\n",
    "\n",
    "print(np.sqrt(mean_squared_error(ytrain,ypred_train)), np.sqrt(mean_squared_error(ytest,ypred_test)))\n",
    "print(r2_score(ytrain, ypred_train), r2_score(ytest, ypred_test))"
   ]
  },
  {
   "cell_type": "code",
   "execution_count": null,
   "id": "330c53da",
   "metadata": {},
   "outputs": [],
   "source": [
    "1 - np.sqrt(np.square(np.log10(ypred_test +1) - np.log10(ytest +1)).mean())"
   ]
  },
  {
   "cell_type": "code",
   "execution_count": null,
   "id": "47ec5e06",
   "metadata": {},
   "outputs": [],
   "source": [
    "from sklearn.tree import DecisionTreeRegressor\n",
    "\n",
    "dtree = DecisionTreeRegressor(max_depth=5, random_state=42)\n",
    "\n",
    "dtree.fit(xtrain, ytrain)\n",
    "\n",
    "pred_train_tree = dtree.predict(xtrain)\n",
    "pred_test_tree= dtree.predict(xtest)\n",
    "\n",
    "print(np.sqrt(mean_squared_error(ytrain,pred_train_tree)), np.sqrt(mean_squared_error(ytest,pred_test_tree)))\n",
    "print(r2_score(ytrain, pred_train_tree), r2_score(ytest, pred_test_tree))"
   ]
  },
  {
   "cell_type": "code",
   "execution_count": null,
   "id": "a82a20b7",
   "metadata": {},
   "outputs": [],
   "source": [
    "1 - np.sqrt(np.square(np.log10(pred_test_tree +1) - np.log10(ytest +1)).mean())"
   ]
  },
  {
   "cell_type": "code",
   "execution_count": null,
   "id": "3ed6b3c6",
   "metadata": {},
   "outputs": [],
   "source": [
    "from sklearn.ensemble import RandomForestRegressor\n",
    "\n",
    "model_rf = RandomForestRegressor(n_estimators=100, max_depth=10, oob_score=True, random_state=42)\n",
    "model_rf.fit(xtrain, ytrain) \n",
    "\n",
    "pred_train_rf = model_rf.predict(xtrain)\n",
    "pred_test_rf = model_rf.predict(xtest)\n",
    "\n",
    "print(np.sqrt(mean_squared_error(ytrain,pred_train_rf)), np.sqrt(mean_squared_error(ytest,pred_test_rf)))\n",
    "print(r2_score(ytrain, pred_train_rf), r2_score(ytest, pred_test_rf))"
   ]
  },
  {
   "cell_type": "code",
   "execution_count": null,
   "id": "03ac0d42",
   "metadata": {},
   "outputs": [],
   "source": [
    "1 - np.sqrt(np.square(np.log10(pred_test_rf +1) - np.log10(ytest +1)).mean())"
   ]
  },
  {
   "cell_type": "code",
   "execution_count": null,
   "id": "e5298aba",
   "metadata": {},
   "outputs": [],
   "source": [
    "pd.DataFrame({'Feature':xtrain.columns, 'Importance':model_rf.feature_importances_}).sort_values(by='Importance', ascending=False)"
   ]
  },
  {
   "cell_type": "code",
   "execution_count": null,
   "id": "03ee1650",
   "metadata": {},
   "outputs": [],
   "source": [
    "model_xgb = XGBRegressor(random_state=42)\n",
    "model_xgb.fit(xtrain, ytrain) \n",
    "\n",
    "pred_train_xgb = model_xgb.predict(xtrain)\n",
    "pred_test_xgb = model_xgb.predict(xtest)\n",
    "\n",
    "print(np.sqrt(mean_squared_error(ytrain,pred_train_xgb)), np.sqrt(mean_squared_error(ytest,pred_test_xgb)))\n",
    "print(r2_score(ytrain, pred_train_xgb), r2_score(ytest, pred_test_xgb))"
   ]
  },
  {
   "cell_type": "code",
   "execution_count": null,
   "id": "bc3d0010",
   "metadata": {},
   "outputs": [],
   "source": [
    "1 - np.sqrt(np.square(np.log10(pred_test_xgb +1) - np.log10(ytest +1)).mean())"
   ]
  },
  {
   "cell_type": "markdown",
   "id": "473bc77a",
   "metadata": {},
   "source": [
    "### Another Iteration"
   ]
  },
  {
   "cell_type": "code",
   "execution_count": 79,
   "id": "e682c242",
   "metadata": {},
   "outputs": [
    {
     "data": {
      "text/html": [
       "<div>\n",
       "<style scoped>\n",
       "    .dataframe tbody tr th:only-of-type {\n",
       "        vertical-align: middle;\n",
       "    }\n",
       "\n",
       "    .dataframe tbody tr th {\n",
       "        vertical-align: top;\n",
       "    }\n",
       "\n",
       "    .dataframe thead th {\n",
       "        text-align: right;\n",
       "    }\n",
       "</style>\n",
       "<table border=\"1\" class=\"dataframe\">\n",
       "  <thead>\n",
       "    <tr style=\"text-align: right;\">\n",
       "      <th></th>\n",
       "      <th>BookCategory</th>\n",
       "      <th>cover_type</th>\n",
       "      <th>edition_year_cat</th>\n",
       "      <th>reviews</th>\n",
       "      <th>ratings</th>\n",
       "      <th>genre_cat</th>\n",
       "      <th>publish_recency</th>\n",
       "    </tr>\n",
       "  </thead>\n",
       "  <tbody>\n",
       "    <tr>\n",
       "      <th>0</th>\n",
       "      <td>Crime, Thriller &amp; Mystery</td>\n",
       "      <td>Mass Market Paperback</td>\n",
       "      <td>Old</td>\n",
       "      <td>4.4</td>\n",
       "      <td>960.0</td>\n",
       "      <td>Other</td>\n",
       "      <td>34</td>\n",
       "    </tr>\n",
       "    <tr>\n",
       "      <th>1</th>\n",
       "      <td>Computing, Internet &amp; Digital Media</td>\n",
       "      <td>Paperback</td>\n",
       "      <td>New</td>\n",
       "      <td>5.0</td>\n",
       "      <td>1.0</td>\n",
       "      <td>Other</td>\n",
       "      <td>2</td>\n",
       "    </tr>\n",
       "    <tr>\n",
       "      <th>2</th>\n",
       "      <td>Romance</td>\n",
       "      <td>Paperback</td>\n",
       "      <td>New</td>\n",
       "      <td>5.0</td>\n",
       "      <td>4.0</td>\n",
       "      <td>Romance (Books)</td>\n",
       "      <td>9</td>\n",
       "    </tr>\n",
       "    <tr>\n",
       "      <th>3</th>\n",
       "      <td>Computing, Internet &amp; Digital Media</td>\n",
       "      <td>Paperback</td>\n",
       "      <td>New</td>\n",
       "      <td>4.1</td>\n",
       "      <td>11.0</td>\n",
       "      <td>Other</td>\n",
       "      <td>4</td>\n",
       "    </tr>\n",
       "    <tr>\n",
       "      <th>4</th>\n",
       "      <td>Language, Linguistics &amp; Writing</td>\n",
       "      <td>Paperback</td>\n",
       "      <td>New</td>\n",
       "      <td>4.4</td>\n",
       "      <td>9.0</td>\n",
       "      <td>Linguistics (Books)</td>\n",
       "      <td>9</td>\n",
       "    </tr>\n",
       "  </tbody>\n",
       "</table>\n",
       "</div>"
      ],
      "text/plain": [
       "                          BookCategory             cover_type  \\\n",
       "0            Crime, Thriller & Mystery  Mass Market Paperback   \n",
       "1  Computing, Internet & Digital Media              Paperback   \n",
       "2                              Romance              Paperback   \n",
       "3  Computing, Internet & Digital Media              Paperback   \n",
       "4      Language, Linguistics & Writing              Paperback   \n",
       "\n",
       "  edition_year_cat  reviews  ratings            genre_cat  publish_recency  \n",
       "0              Old      4.4    960.0                Other               34  \n",
       "1              New      5.0      1.0                Other                2  \n",
       "2              New      5.0      4.0      Romance (Books)                9  \n",
       "3              New      4.1     11.0                Other                4  \n",
       "4              New      4.4      9.0  Linguistics (Books)                9  "
      ]
     },
     "execution_count": 79,
     "metadata": {},
     "output_type": "execute_result"
    }
   ],
   "source": [
    "df3.head()"
   ]
  },
  {
   "cell_type": "code",
   "execution_count": 80,
   "id": "fcb4e021",
   "metadata": {},
   "outputs": [],
   "source": [
    "cat_cols = df3.select_dtypes(exclude=np.number)\n",
    "num_cols = df3.select_dtypes(include=np.number)"
   ]
  },
  {
   "cell_type": "code",
   "execution_count": 81,
   "id": "c38bced6",
   "metadata": {},
   "outputs": [
    {
     "data": {
      "text/html": [
       "<div>\n",
       "<style scoped>\n",
       "    .dataframe tbody tr th:only-of-type {\n",
       "        vertical-align: middle;\n",
       "    }\n",
       "\n",
       "    .dataframe tbody tr th {\n",
       "        vertical-align: top;\n",
       "    }\n",
       "\n",
       "    .dataframe thead th {\n",
       "        text-align: right;\n",
       "    }\n",
       "</style>\n",
       "<table border=\"1\" class=\"dataframe\">\n",
       "  <thead>\n",
       "    <tr style=\"text-align: right;\">\n",
       "      <th></th>\n",
       "      <th>reviews</th>\n",
       "      <th>ratings</th>\n",
       "      <th>publish_recency</th>\n",
       "      <th>BookCategory</th>\n",
       "      <th>cover_type</th>\n",
       "      <th>edition_year_cat</th>\n",
       "      <th>genre_cat</th>\n",
       "    </tr>\n",
       "  </thead>\n",
       "  <tbody>\n",
       "    <tr>\n",
       "      <th>0</th>\n",
       "      <td>4.4</td>\n",
       "      <td>960.0</td>\n",
       "      <td>34</td>\n",
       "      <td>0.099359</td>\n",
       "      <td>0.028846</td>\n",
       "      <td>0.065385</td>\n",
       "      <td>0.373718</td>\n",
       "    </tr>\n",
       "    <tr>\n",
       "      <th>1</th>\n",
       "      <td>5.0</td>\n",
       "      <td>1.0</td>\n",
       "      <td>2</td>\n",
       "      <td>0.088462</td>\n",
       "      <td>0.811538</td>\n",
       "      <td>0.710897</td>\n",
       "      <td>0.373718</td>\n",
       "    </tr>\n",
       "    <tr>\n",
       "      <th>2</th>\n",
       "      <td>5.0</td>\n",
       "      <td>4.0</td>\n",
       "      <td>9</td>\n",
       "      <td>0.091026</td>\n",
       "      <td>0.811538</td>\n",
       "      <td>0.710897</td>\n",
       "      <td>0.062821</td>\n",
       "    </tr>\n",
       "    <tr>\n",
       "      <th>3</th>\n",
       "      <td>4.1</td>\n",
       "      <td>11.0</td>\n",
       "      <td>4</td>\n",
       "      <td>0.088462</td>\n",
       "      <td>0.811538</td>\n",
       "      <td>0.710897</td>\n",
       "      <td>0.373718</td>\n",
       "    </tr>\n",
       "    <tr>\n",
       "      <th>4</th>\n",
       "      <td>4.4</td>\n",
       "      <td>9.0</td>\n",
       "      <td>9</td>\n",
       "      <td>0.089103</td>\n",
       "      <td>0.811538</td>\n",
       "      <td>0.710897</td>\n",
       "      <td>0.014744</td>\n",
       "    </tr>\n",
       "  </tbody>\n",
       "</table>\n",
       "</div>"
      ],
      "text/plain": [
       "   reviews  ratings  publish_recency  BookCategory  cover_type  \\\n",
       "0      4.4    960.0               34      0.099359    0.028846   \n",
       "1      5.0      1.0                2      0.088462    0.811538   \n",
       "2      5.0      4.0                9      0.091026    0.811538   \n",
       "3      4.1     11.0                4      0.088462    0.811538   \n",
       "4      4.4      9.0                9      0.089103    0.811538   \n",
       "\n",
       "   edition_year_cat  genre_cat  \n",
       "0          0.065385   0.373718  \n",
       "1          0.710897   0.373718  \n",
       "2          0.710897   0.062821  \n",
       "3          0.710897   0.373718  \n",
       "4          0.710897   0.014744  "
      ]
     },
     "execution_count": 81,
     "metadata": {},
     "output_type": "execute_result"
    }
   ],
   "source": [
    "fe = CountFrequencyEncoder(encoding_method='frequency')\n",
    "\n",
    "cat_freq = pd.DataFrame(fe.fit_transform(cat_cols)).reset_index(drop=True)\n",
    "df_freq = pd.concat([num_cols.reset_index(drop=True), cat_freq], axis=1)\n",
    "df_freq.head()"
   ]
  },
  {
   "cell_type": "code",
   "execution_count": 82,
   "id": "2542fede",
   "metadata": {},
   "outputs": [
    {
     "data": {
      "text/plain": [
       "(1560, 7)"
      ]
     },
     "execution_count": 82,
     "metadata": {},
     "output_type": "execute_result"
    }
   ],
   "source": [
    "pw = PowerTransformer()\n",
    "df_freq_trans = pd.DataFrame(pw.fit_transform(df_freq), columns=df_freq.columns)\n",
    "\n",
    "sc = StandardScaler()\n",
    "df_freq_scaled = pd.DataFrame(sc.fit_transform(df_freq_trans), columns=df_freq_trans.columns).reset_index(drop=True)\n",
    "df_freq_scaled.shape"
   ]
  },
  {
   "cell_type": "code",
   "execution_count": 83,
   "id": "c957a7fe",
   "metadata": {},
   "outputs": [
    {
     "data": {
      "text/html": [
       "<div>\n",
       "<style scoped>\n",
       "    .dataframe tbody tr th:only-of-type {\n",
       "        vertical-align: middle;\n",
       "    }\n",
       "\n",
       "    .dataframe tbody tr th {\n",
       "        vertical-align: top;\n",
       "    }\n",
       "\n",
       "    .dataframe thead th {\n",
       "        text-align: right;\n",
       "    }\n",
       "</style>\n",
       "<table border=\"1\" class=\"dataframe\">\n",
       "  <thead>\n",
       "    <tr style=\"text-align: right;\">\n",
       "      <th></th>\n",
       "      <th>reviews</th>\n",
       "      <th>ratings</th>\n",
       "      <th>publish_recency</th>\n",
       "      <th>BookCategory</th>\n",
       "      <th>cover_type</th>\n",
       "      <th>edition_year_cat</th>\n",
       "      <th>genre_cat</th>\n",
       "    </tr>\n",
       "  </thead>\n",
       "  <tbody>\n",
       "    <tr>\n",
       "      <th>0</th>\n",
       "      <td>-0.031047</td>\n",
       "      <td>2.195774</td>\n",
       "      <td>2.046418</td>\n",
       "      <td>0.275870</td>\n",
       "      <td>-2.085858</td>\n",
       "      <td>-1.652683</td>\n",
       "      <td>1.204666</td>\n",
       "    </tr>\n",
       "    <tr>\n",
       "      <th>1</th>\n",
       "      <td>1.315675</td>\n",
       "      <td>-1.390723</td>\n",
       "      <td>-1.195503</td>\n",
       "      <td>-0.266975</td>\n",
       "      <td>0.481898</td>\n",
       "      <td>0.637472</td>\n",
       "      <td>1.204666</td>\n",
       "    </tr>\n",
       "    <tr>\n",
       "      <th>2</th>\n",
       "      <td>1.315675</td>\n",
       "      <td>-0.327721</td>\n",
       "      <td>0.572636</td>\n",
       "      <td>-0.134647</td>\n",
       "      <td>0.481898</td>\n",
       "      <td>0.637472</td>\n",
       "      <td>-0.662217</td>\n",
       "    </tr>\n",
       "    <tr>\n",
       "      <th>3</th>\n",
       "      <td>-0.552159</td>\n",
       "      <td>0.432690</td>\n",
       "      <td>-0.398114</td>\n",
       "      <td>-0.266975</td>\n",
       "      <td>0.481898</td>\n",
       "      <td>0.637472</td>\n",
       "      <td>1.204666</td>\n",
       "    </tr>\n",
       "    <tr>\n",
       "      <th>4</th>\n",
       "      <td>-0.031047</td>\n",
       "      <td>0.291536</td>\n",
       "      <td>0.572636</td>\n",
       "      <td>-0.233619</td>\n",
       "      <td>0.481898</td>\n",
       "      <td>0.637472</td>\n",
       "      <td>-1.133303</td>\n",
       "    </tr>\n",
       "  </tbody>\n",
       "</table>\n",
       "</div>"
      ],
      "text/plain": [
       "    reviews   ratings  publish_recency  BookCategory  cover_type  \\\n",
       "0 -0.031047  2.195774         2.046418      0.275870   -2.085858   \n",
       "1  1.315675 -1.390723        -1.195503     -0.266975    0.481898   \n",
       "2  1.315675 -0.327721         0.572636     -0.134647    0.481898   \n",
       "3 -0.552159  0.432690        -0.398114     -0.266975    0.481898   \n",
       "4 -0.031047  0.291536         0.572636     -0.233619    0.481898   \n",
       "\n",
       "   edition_year_cat  genre_cat  \n",
       "0         -1.652683   1.204666  \n",
       "1          0.637472   1.204666  \n",
       "2          0.637472  -0.662217  \n",
       "3          0.637472   1.204666  \n",
       "4          0.637472  -1.133303  "
      ]
     },
     "execution_count": 83,
     "metadata": {},
     "output_type": "execute_result"
    }
   ],
   "source": [
    "df_freq_scaled.head()"
   ]
  },
  {
   "cell_type": "code",
   "execution_count": 88,
   "id": "b61d5579",
   "metadata": {},
   "outputs": [],
   "source": [
    "df_freq.to_csv(\"test_df_1.csv\", index=False)"
   ]
  },
  {
   "cell_type": "code",
   "execution_count": null,
   "id": "7a494ffc",
   "metadata": {},
   "outputs": [],
   "source": [
    "X = df_freq_scaled.drop(\"Price\", axis=1)\n",
    "y = df_freq_scaled['Price']"
   ]
  },
  {
   "cell_type": "code",
   "execution_count": null,
   "id": "f6f906bc",
   "metadata": {},
   "outputs": [],
   "source": [
    "xtrain, xtest, ytrain, ytest = train_test_split(X, y, test_size=0.2, random_state=42)"
   ]
  },
  {
   "cell_type": "code",
   "execution_count": null,
   "id": "1f87b0b8",
   "metadata": {},
   "outputs": [],
   "source": [
    "lr = LinearRegression()\n",
    "\n",
    "lr.fit(xtrain, ytrain)\n",
    "\n",
    "ypred_train = lr.predict(xtrain)\n",
    "ypred_test = lr.predict(xtest)\n",
    "\n",
    "print(np.sqrt(mean_squared_error(ytrain,ypred_train)), np.sqrt(mean_squared_error(ytest,ypred_test)))\n",
    "print(r2_score(ytrain, ypred_train), r2_score(ytest, ypred_test))"
   ]
  },
  {
   "cell_type": "code",
   "execution_count": null,
   "id": "bbbc31f4",
   "metadata": {},
   "outputs": [],
   "source": [
    "1 - np.sqrt(np.square(np.log10(ypred_test +1) - np.log10(ytest +1)).mean())"
   ]
  },
  {
   "cell_type": "code",
   "execution_count": null,
   "id": "6f00b012",
   "metadata": {},
   "outputs": [],
   "source": [
    "from sklearn.tree import DecisionTreeRegressor\n",
    "\n",
    "dtree = DecisionTreeRegressor(max_depth=5, random_state=42)\n",
    "\n",
    "dtree.fit(xtrain, ytrain)\n",
    "\n",
    "pred_train_tree = dtree.predict(xtrain)\n",
    "pred_test_tree= dtree.predict(xtest)\n",
    "\n",
    "print(np.sqrt(mean_squared_error(ytrain,pred_train_tree)), np.sqrt(mean_squared_error(ytest,pred_test_tree)))\n",
    "print(r2_score(ytrain, pred_train_tree), r2_score(ytest, pred_test_tree))"
   ]
  },
  {
   "cell_type": "code",
   "execution_count": null,
   "id": "48155008",
   "metadata": {},
   "outputs": [],
   "source": [
    "1 - np.sqrt(np.square(np.log10(pred_test_tree +1) - np.log10(ytest +1)).mean())"
   ]
  },
  {
   "cell_type": "code",
   "execution_count": null,
   "id": "5d976fa8",
   "metadata": {},
   "outputs": [],
   "source": [
    "from sklearn.ensemble import RandomForestRegressor\n",
    "\n",
    "model_rf = RandomForestRegressor(n_estimators=100, max_depth=10, oob_score=True, random_state=42)\n",
    "model_rf.fit(xtrain, ytrain) \n",
    "\n",
    "pred_train_rf = model_rf.predict(xtrain)\n",
    "pred_test_rf = model_rf.predict(xtest)\n",
    "\n",
    "print(np.sqrt(mean_squared_error(ytrain,pred_train_rf)), np.sqrt(mean_squared_error(ytest,pred_test_rf)))\n",
    "print(r2_score(ytrain, pred_train_rf), r2_score(ytest, pred_test_rf))"
   ]
  },
  {
   "cell_type": "code",
   "execution_count": null,
   "id": "0de5788b",
   "metadata": {},
   "outputs": [],
   "source": [
    "1 - np.sqrt(np.square(np.log10(pred_test_rf +1) - np.log10(ytest +1)).mean())"
   ]
  },
  {
   "cell_type": "code",
   "execution_count": null,
   "id": "9717c783",
   "metadata": {},
   "outputs": [],
   "source": [
    "pd.DataFrame({'Feature':xtrain.columns, 'Importance':model_rf.feature_importances_}).sort_values(by='Importance', ascending=False)"
   ]
  },
  {
   "cell_type": "code",
   "execution_count": null,
   "id": "cc14eb64",
   "metadata": {},
   "outputs": [],
   "source": [
    "model_xgb = XGBRegressor(random_state=42)\n",
    "model_xgb.fit(xtrain, ytrain) \n",
    "\n",
    "pred_train_xgb = model_xgb.predict(xtrain)\n",
    "pred_test_xgb = model_xgb.predict(xtest)\n",
    "\n",
    "print(np.sqrt(mean_squared_error(ytrain,pred_train_xgb)), np.sqrt(mean_squared_error(ytest,pred_test_xgb)))\n",
    "print(r2_score(ytrain, pred_train_xgb), r2_score(ytest, pred_test_xgb))"
   ]
  },
  {
   "cell_type": "code",
   "execution_count": null,
   "id": "194f16b2",
   "metadata": {},
   "outputs": [],
   "source": [
    "1 - np.sqrt(np.square(np.log10(pred_test_xgb +1) - np.log10(ytest +1)).mean())"
   ]
  },
  {
   "cell_type": "code",
   "execution_count": null,
   "id": "96897319",
   "metadata": {},
   "outputs": [],
   "source": []
  },
  {
   "cell_type": "code",
   "execution_count": null,
   "id": "e62b16de",
   "metadata": {},
   "outputs": [],
   "source": []
  },
  {
   "cell_type": "code",
   "execution_count": null,
   "id": "50ea408d",
   "metadata": {},
   "outputs": [],
   "source": []
  }
 ],
 "metadata": {
  "kernelspec": {
   "display_name": "Python 3 (ipykernel)",
   "language": "python",
   "name": "python3"
  },
  "language_info": {
   "codemirror_mode": {
    "name": "ipython",
    "version": 3
   },
   "file_extension": ".py",
   "mimetype": "text/x-python",
   "name": "python",
   "nbconvert_exporter": "python",
   "pygments_lexer": "ipython3",
   "version": "3.9.7"
  }
 },
 "nbformat": 4,
 "nbformat_minor": 5
}
